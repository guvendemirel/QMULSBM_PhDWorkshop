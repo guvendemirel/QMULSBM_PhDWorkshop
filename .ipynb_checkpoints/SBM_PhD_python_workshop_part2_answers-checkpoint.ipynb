{
 "cells": [
  {
   "cell_type": "markdown",
   "id": "b7c863db",
   "metadata": {},
   "source": [
    "# QMUL SBM PHD Python Workshop - Part 2\n",
    "\n",
    "In this session, we will work on the building blocks of programming (conditional statements, loops, functions) and the Numpy package."
   ]
  },
  {
   "cell_type": "markdown",
   "id": "f8b87bcd",
   "metadata": {},
   "source": [
    "## Control Flow\n",
    "\n",
    "Control flow refers to the specification of the order of execution of different blocks of code using conditional statements, loops, function calls, etc. Boolean data type and operations are critical for control flows.\n",
    "\n",
    "The scalar Boolean data type in Python is `bool`, which has two instances `True` and `False`. "
   ]
  },
  {
   "cell_type": "code",
   "execution_count": 1,
   "id": "ebe0edf4",
   "metadata": {},
   "outputs": [
    {
     "data": {
      "text/plain": [
       "bool"
      ]
     },
     "execution_count": 1,
     "metadata": {},
     "output_type": "execute_result"
    }
   ],
   "source": [
    "type(True)"
   ]
  },
  {
   "cell_type": "markdown",
   "id": "5439d983",
   "metadata": {},
   "source": [
    "### Boolean Operations\n",
    "`a` and `b` boolean:\n",
    "- `a & b`: AND - True if both a and b are True\n",
    "- `a | b`: OR - True if either a and/or b is True\n",
    "- `a ^ b`: XOR - True if any one of a or b is True, but not both\n",
    "\n",
    "`a` and `b` generally:\n",
    "- `a == b` True if the value of a equals b\n",
    "- `a != b` True if the value of a is not equal to b\n",
    "- `a <= b, a < b`\tTrue if a is less than or equal to (less than) b (numerical)\n",
    "- `a > b, a >= b`\tTrue if a is greater than or equal to (greater than) b\n",
    "- `a is b`\tTrue if a and b reference the same Python object\n",
    "- `a is not b`\tTrue if a and b reference different Python objects"
   ]
  },
  {
   "cell_type": "code",
   "execution_count": 2,
   "id": "b325d58f",
   "metadata": {},
   "outputs": [
    {
     "name": "stdout",
     "output_type": "stream",
     "text": [
      "False\n",
      "False\n"
     ]
    }
   ],
   "source": [
    "# What outputs do you expect?\n",
    "print(True & False)\n",
    "print(True ^ True)"
   ]
  },
  {
   "cell_type": "code",
   "execution_count": 3,
   "id": "73962946",
   "metadata": {},
   "outputs": [
    {
     "name": "stdout",
     "output_type": "stream",
     "text": [
      "True False\n"
     ]
    }
   ],
   "source": [
    "list1 = [1, 2, 0]\n",
    "list2 = [1, 2, 0]\n",
    "# What output do you expect?\n",
    "print(list1 == list2, list1 is list2)"
   ]
  },
  {
   "cell_type": "code",
   "execution_count": 4,
   "id": "6b3be828",
   "metadata": {},
   "outputs": [
    {
     "name": "stdout",
     "output_type": "stream",
     "text": [
      "True True False\n"
     ]
    }
   ],
   "source": [
    "list3 = list1\n",
    "# What output do you expect?\n",
    "print(list2 == list3, list1 is list3, list2 is list3)"
   ]
  },
  {
   "cell_type": "markdown",
   "id": "d1984ae6",
   "metadata": {},
   "source": [
    "## Choice Statements:\n",
    "Choice statements control the flow in the program depending on which condition is met.\n",
    "```pyton\n",
    "if condition1:\n",
    "    statement1\n",
    "elif condition2:\n",
    "    statement2\n",
    "elif condition3:\n",
    "    statement3\n",
    "else:\n",
    "    statement4\n",
    "```\n",
    "\n",
    "As an example, we will generate two standard normal variables and choose the greater value. "
   ]
  },
  {
   "cell_type": "code",
   "execution_count": 5,
   "id": "0068a95b",
   "metadata": {},
   "outputs": [
    {
     "name": "stdout",
     "output_type": "stream",
     "text": [
      "x=0.50 and y=-0.14\n"
     ]
    }
   ],
   "source": [
    "# import numpy\n",
    "import numpy as np\n",
    "\n",
    "np.random.seed(42) #set the seed for pseudo-random numbers \n",
    "\n",
    "# a standard normal random number \n",
    "x = np.random.standard_normal() \n",
    "\n",
    "# generate another standard normal random number\n",
    "y = np.random.standard_normal()\n",
    "\n",
    "# format replaces the {} in the string with the corresponding argument\n",
    "print(\"x={0:.2f} and y={1:.2f}\".format(x, y)) "
   ]
  },
  {
   "cell_type": "code",
   "execution_count": 6,
   "id": "f6f07e9f",
   "metadata": {},
   "outputs": [
    {
     "name": "stdout",
     "output_type": "stream",
     "text": [
      "Maximum is 0.50\n"
     ]
    }
   ],
   "source": [
    "# Print the maximum of x and y\n",
    "if x >= y: \n",
    "    print(\"Maximum is {0:.2f}\".format(x))\n",
    "else:\n",
    "    print(\"Maximum is {0:.2f}\".format(y))"
   ]
  },
  {
   "cell_type": "markdown",
   "id": "48d37fe5",
   "metadata": {},
   "source": [
    "## Loops \n",
    "\n",
    "`for` loops are used for iterating over collections, such as lists, tuples, and any iterators. \n",
    "\n",
    "`range` function is used to create iterators. It is called by `range(1,5)`, which iterates as 1, 2, 3, and 4. The advantage of iterators as opposed to lists or tuples is that you do not keep the full list. We need only the value in a specific iteration, which saves a lot of memory if looping over a large range.\n",
    "\n",
    "In Python, `for` loops should be used in complex situations because they atend to be slower than list comprehensions and Numpy array methods (both to follow). \n",
    "\n",
    "If you want to check time performance of an operation you can use the `%%time` and `%%timeit` magics.  \n",
    "\n",
    "Example: create a loop that calculates the square of one million randomly generated standard normal variables."
   ]
  },
  {
   "cell_type": "code",
   "execution_count": 7,
   "id": "1a8efaab",
   "metadata": {},
   "outputs": [],
   "source": [
    "# Genereate 1000000 standard normal variables\n",
    "vals = np.random.standard_normal(1000000)"
   ]
  },
  {
   "cell_type": "code",
   "execution_count": 8,
   "id": "d819cc87",
   "metadata": {},
   "outputs": [
    {
     "name": "stdout",
     "output_type": "stream",
     "text": [
      "175 ms ± 5.66 ms per loop (mean ± std. dev. of 7 runs, 10 loops each)\n"
     ]
    }
   ],
   "source": [
    "%%timeit\n",
    "# Create an empty list\n",
    "vals_squared = []\n",
    "# Loop over the vals array and append to the list the square of the current element\n",
    "for val in vals: \n",
    "    vals_squared.append(val ** 2)"
   ]
  },
  {
   "cell_type": "markdown",
   "id": "ab4a7f03",
   "metadata": {},
   "source": [
    "You can do the same with **list comprehension** in shorter time:"
   ]
  },
  {
   "cell_type": "code",
   "execution_count": 9,
   "id": "ac597507",
   "metadata": {},
   "outputs": [
    {
     "name": "stdout",
     "output_type": "stream",
     "text": [
      "146 ms ± 9.18 ms per loop (mean ± std. dev. of 7 runs, 10 loops each)\n"
     ]
    }
   ],
   "source": [
    "%%timeit\n",
    "vals_squared = [val ** 2 for val in vals]"
   ]
  },
  {
   "cell_type": "markdown",
   "id": "f755eeba",
   "metadata": {},
   "source": [
    "It is even faster to use Numpy methods and operations, which are directly implemented in C."
   ]
  },
  {
   "cell_type": "code",
   "execution_count": 10,
   "id": "ffa6283b",
   "metadata": {},
   "outputs": [
    {
     "name": "stdout",
     "output_type": "stream",
     "text": [
      "1.82 ms ± 162 µs per loop (mean ± std. dev. of 7 runs, 1,000 loops each)\n"
     ]
    }
   ],
   "source": [
    "%%timeit\n",
    "vals_squared = vals ** 2 # note that this works with Numpy arrays, not lists"
   ]
  },
  {
   "cell_type": "markdown",
   "id": "5e7b00a2",
   "metadata": {},
   "source": [
    "In most cases, we need to combine `for` loops with `if else` statements. You can also do this in list comprehensions:"
   ]
  },
  {
   "cell_type": "code",
   "execution_count": 11,
   "id": "c5bca949",
   "metadata": {},
   "outputs": [
    {
     "data": {
      "text/plain": [
       "['ANALYTICS',\n",
       " 'BUSINESS ANALYTICS',\n",
       " 'DATA',\n",
       " 'MACHINE LEARNING',\n",
       " 'STATISTICS',\n",
       " 'PYTHON']"
      ]
     },
     "execution_count": 11,
     "metadata": {},
     "output_type": "execute_result"
    }
   ],
   "source": [
    "# For the list below\n",
    "my_list = [1, 10, 'analytics', 'business analytics', 'data', 'machine learning', 'statistics', 'python']\n",
    "\n",
    "# We want to convert all strings to uppercase (common task in data cleaning) \n",
    "# and skip other types \n",
    "# Hint: isintance(x,type) checks if x is an instance of class type \n",
    "new_list = [item.upper() for item in my_list if isinstance(item, str)]\n",
    "new_list"
   ]
  },
  {
   "cell_type": "markdown",
   "id": "5499d903",
   "metadata": {},
   "source": [
    "## Functions\n",
    "Functions are crucial building blocks of programming, which eliminate redundancy and provide abstraction. If you repeat a certain code that solves a non-trivial task in different parts of your code, it is a good indication that you should introduce a function. Organizing your blocks of code into functions provides an abstraction, which makes it easier to understand your code. Furthermore, the maintenance of code is easier with functions. We have so far used several built-in functions, e.g. `print` function, or functions from other packages such as Numpy, e.g. `np.sqrt()`. The functions are called by providing their arguments, lists of which can be checked from the help.\n",
    "\n",
    "We can also define our own functions. Let's now define a simple function. **Positional arguments** must always be provided inputs. Default values are used for **keyword arguments** if no value is provided. The function definition syntax is as follows:\n",
    "\n",
    "```python\n",
    "def function_name(arg1, arg2 = val2):\n",
    "    code\n",
    "    return value\n",
    "```\n",
    "\n",
    "### Namespaces\n",
    "The local namespace (variable scope) is created when the function is called and the arguments are automatically loaded. You can also use variables from the global namespace in the local namespace. However, you cannot change their values. If you try, a new variable is created. You must use the `global` keyword if you want to update its value.\n",
    "\n",
    "As an example, let's write a function that cleans the names of subject areas."
   ]
  },
  {
   "cell_type": "code",
   "execution_count": 12,
   "id": "b9895d1c",
   "metadata": {},
   "outputs": [
    {
     "data": {
      "text/plain": [
       "['Accounting',\n",
       " 'Finance',\n",
       " 'Marketing',\n",
       " 'Supply Chain Management',\n",
       " 'International Business']"
      ]
     },
     "execution_count": 12,
     "metadata": {},
     "output_type": "execute_result"
    }
   ],
   "source": [
    "import re #regular expressions library for handling text\n",
    "\n",
    "courses = [' accounting ', 'finance ', 'Marketing ', 'supply chain management#', '?interna92tional BuSiness1\\n']\n",
    "\n",
    "# Create a list of characters to remove\n",
    "remove_chars = '[_!#?*0-9]'\n",
    "\n",
    "def clean_name(name):\n",
    "    cl_name = name.strip() #remove the beginning and ending white spaces and new lines\n",
    "    cl_name = re.sub(remove_chars, '', cl_name) #remove unwanted characters\n",
    "    cl_name = cl_name.title() #first letter capital \n",
    "    return cl_name\n",
    "\n",
    "# Write a list comprehension that applies clean_name to each name in the courses list\n",
    "cleaned_courses = [clean_name(course) for course in courses]\n",
    "cleaned_courses"
   ]
  },
  {
   "cell_type": "markdown",
   "id": "6a1cb8ec",
   "metadata": {},
   "source": [
    "Final check variable scope:"
   ]
  },
  {
   "cell_type": "code",
   "execution_count": 13,
   "id": "80d02e55",
   "metadata": {},
   "outputs": [
    {
     "ename": "NameError",
     "evalue": "name 'cl_name' is not defined",
     "output_type": "error",
     "traceback": [
      "\u001b[1;31m---------------------------------------------------------------------------\u001b[0m",
      "\u001b[1;31mNameError\u001b[0m                                 Traceback (most recent call last)",
      "Cell \u001b[1;32mIn[13], line 3\u001b[0m\n\u001b[0;32m      1\u001b[0m \u001b[38;5;66;03m# What happens if you try accessing cl_name outside the function (in the global scope), \u001b[39;00m\n\u001b[0;32m      2\u001b[0m \u001b[38;5;66;03m# where it is not in the namespace?\u001b[39;00m\n\u001b[1;32m----> 3\u001b[0m \u001b[43mcl_name\u001b[49m\n",
      "\u001b[1;31mNameError\u001b[0m: name 'cl_name' is not defined"
     ]
    }
   ],
   "source": [
    "# What happens if you try accessing cl_name outside the function (in the global scope), \n",
    "# where it is not in the namespace?\n",
    "cl_name"
   ]
  },
  {
   "cell_type": "markdown",
   "id": "bf950e9b",
   "metadata": {},
   "source": [
    "Since in Python everything is an object, the variables are passed by object (reference), in contrast to passing by value, which is more common in other programming languages. The behaviour depends on whether the argument is of mutable vs immutable data type, similar to the behaviour of variable assignment as we have seen before. The following exercises illustrate variable scopes and the behaviour for mutable and immutable arguments."
   ]
  },
  {
   "cell_type": "code",
   "execution_count": 14,
   "id": "a0017d2f",
   "metadata": {},
   "outputs": [
    {
     "name": "stdout",
     "output_type": "stream",
     "text": [
      "?businesS analytics# Business Analytics\n"
     ]
    }
   ],
   "source": [
    "# Try the following code - Version 1\n",
    "def clean_name(name):\n",
    "    name = name.strip() \n",
    "    name = re.sub(remove_chars, '', name) \n",
    "    name = name.title()\n",
    "    return name\n",
    "\n",
    "name1 = \"?businesS analytics#\"\n",
    "name2 = clean_name(name1)\n",
    "\n",
    "# What output do you expect and why?\n",
    "print(name1, name2)"
   ]
  },
  {
   "cell_type": "code",
   "execution_count": 15,
   "id": "3572cbf9",
   "metadata": {},
   "outputs": [
    {
     "name": "stdout",
     "output_type": "stream",
     "text": [
      "something else ?businesS analytics# Business Analytics\n"
     ]
    }
   ],
   "source": [
    "# Try the following code - Version 2\n",
    "def clean_name_alt(name):\n",
    "    name1 = name.strip() \n",
    "    name1 = re.sub(remove_chars, '', name1) \n",
    "    name1 = name1.title() #first letter capital \n",
    "    return name1\n",
    "\n",
    "name1 = \"something else\"\n",
    "name2 = \"?businesS analytics#\"\n",
    "name3 = clean_name_alt(name2)\n",
    "\n",
    "# What output do you expect and why?\n",
    "print(name1, name2, name3)"
   ]
  },
  {
   "cell_type": "code",
   "execution_count": 16,
   "id": "56c8962c",
   "metadata": {},
   "outputs": [
    {
     "name": "stdout",
     "output_type": "stream",
     "text": [
      "Business Analytics ?businesS analytics# Business Analytics\n"
     ]
    }
   ],
   "source": [
    "# Try the following code - Version 3\n",
    "def clean_name_alt(name):\n",
    "    # set the scope of the variable to global\n",
    "    global name1\n",
    "    name1 = name.strip() \n",
    "    name1 = re.sub(remove_chars, '', name1) \n",
    "    name1 = name1.title() #first letter capital \n",
    "    return name1\n",
    "\n",
    "name1 = \"something else\"\n",
    "name2 = \"?businesS analytics#\"\n",
    "name3 = clean_name_alt(name2)\n",
    "\n",
    "# What output do you expect and why?\n",
    "print(name1, name2, name3)"
   ]
  },
  {
   "cell_type": "code",
   "execution_count": 17,
   "id": "b4bb3de1",
   "metadata": {},
   "outputs": [
    {
     "data": {
      "text/plain": [
       "True"
      ]
     },
     "execution_count": 17,
     "metadata": {},
     "output_type": "execute_result"
    }
   ],
   "source": [
    "# Check whether name1 and name3 are the same object\n",
    "name1 is name3"
   ]
  },
  {
   "cell_type": "code",
   "execution_count": 18,
   "id": "1f348437",
   "metadata": {},
   "outputs": [
    {
     "name": "stdout",
     "output_type": "stream",
     "text": [
      "['Accounting', 'Finance', 'Marketing', 'Supply Chain Management', 'International Business'] 5\n"
     ]
    }
   ],
   "source": [
    "# Working with list arguments\n",
    "\n",
    "# Global scope:\n",
    "courses = [' accounting ', 'finance ', 'Marketing ', 'supply chain management#', '?interna92tional BuSiness1\\n']\n",
    "no_courses = 0\n",
    "\n",
    "def clean_names(name_list):\n",
    "    # set the scope to global\n",
    "    global no_courses\n",
    "    # loop over the list by both index and value\n",
    "    for ind, val in enumerate(name_list):\n",
    "        # increment no_courses\n",
    "        no_courses += 1\n",
    "        # call clean_name function and update the list\n",
    "        name_list[ind] = clean_name(val)        \n",
    "\n",
    "# clean the courses list\n",
    "clean_names(courses)\n",
    "\n",
    "# What output do you expect and why?\n",
    "print(courses, no_courses)"
   ]
  },
  {
   "cell_type": "markdown",
   "id": "6aefc3f6",
   "metadata": {},
   "source": [
    "## Numpy Package\n",
    "NumPy is the main package for numerical computations in Python. It is used together with the Pandas package for data analysis. Numpy is highly efficient even for large amounts of data because its methods are implemented in C. NumPy provides methods, operations, and functions that can be applied to whole arrays without the need for loops or list comprehensions.\n",
    "\n",
    "### Numpy Arrays\n",
    "The core data structure of Numpy is `ndarray` (N-dimensional array). Arrays are homogeneous, meaning that all units have the same data type (mostly numeric and logical), differently from lists that are heterogeneous. With arrays, you can apply operations as if they were scalars. "
   ]
  },
  {
   "cell_type": "code",
   "execution_count": 19,
   "id": "7d5a5429",
   "metadata": {},
   "outputs": [
    {
     "data": {
      "text/plain": [
       "array([[ 0.49671415, -0.1382643 ,  0.64768854],\n",
       "       [ 1.52302986, -0.23415337, -0.23413696]])"
      ]
     },
     "execution_count": 19,
     "metadata": {},
     "output_type": "execute_result"
    }
   ],
   "source": [
    "# Import the numpy package\n",
    "import numpy as np\n",
    "\n",
    "# Set the seed for random numbers\n",
    "np.random.seed(42)\n",
    "\n",
    "# Create my_array 2 x 3 array of standard normal variables\n",
    "my_array = np.random.standard_normal((2, 3)) \n",
    "my_array"
   ]
  },
  {
   "cell_type": "markdown",
   "id": "7c022f82",
   "metadata": {},
   "source": [
    "All mathematical operators are applied element-wise:"
   ]
  },
  {
   "cell_type": "code",
   "execution_count": 20,
   "id": "20a22121",
   "metadata": {},
   "outputs": [
    {
     "data": {
      "text/plain": [
       "array([[ 4.96714153, -1.38264301,  6.47688538],\n",
       "       [15.23029856, -2.34153375, -2.34136957]])"
      ]
     },
     "execution_count": 20,
     "metadata": {},
     "output_type": "execute_result"
    }
   ],
   "source": [
    "# Multiply all entries of my_array by 10\n",
    "10 * my_array"
   ]
  },
  {
   "cell_type": "code",
   "execution_count": 21,
   "id": "488cb617",
   "metadata": {},
   "outputs": [
    {
     "data": {
      "text/plain": [
       "array([[ 0.39737132, -0.11061144,  0.51815083],\n",
       "       [ 1.21842389, -0.1873227 , -0.18730957]])"
      ]
     },
     "execution_count": 21,
     "metadata": {},
     "output_type": "execute_result"
    }
   ],
   "source": [
    "# Subtract 0.2*my_array from my_array\n",
    "my_array - .2 * my_array"
   ]
  },
  {
   "cell_type": "code",
   "execution_count": 22,
   "id": "7797eb7b",
   "metadata": {},
   "outputs": [
    {
     "data": {
      "text/plain": [
       "array([[ 20.13230334, -72.32524893,  15.43951979],\n",
       "       [  6.56585947, -42.7070505 , -42.71004514]])"
      ]
     },
     "execution_count": 22,
     "metadata": {},
     "output_type": "execute_result"
    }
   ],
   "source": [
    "# Divide 10 by each entry of my_array\n",
    "10 / my_array"
   ]
  },
  {
   "cell_type": "code",
   "execution_count": 23,
   "id": "6c8aaca7",
   "metadata": {},
   "outputs": [
    {
     "data": {
      "text/plain": [
       "array([[0.44958489, 1.24923056, 0.3526023 ],\n",
       "       [0.0861882 , 1.45769339, 1.45765488]])"
      ]
     },
     "execution_count": 23,
     "metadata": {},
     "output_type": "execute_result"
    }
   ],
   "source": [
    "# Raise 0.2 to the power given by each entry of my_array\n",
    ".2 ** my_array"
   ]
  },
  {
   "cell_type": "code",
   "execution_count": 24,
   "id": "8cbe59a4",
   "metadata": {},
   "outputs": [
    {
     "data": {
      "text/plain": [
       "array([[6.08732009e-02, 3.65460338e-04, 1.75980621e-01],\n",
       "       [5.38063668e+00, 3.00608797e-03, 3.00524497e-03]])"
      ]
     },
     "execution_count": 24,
     "metadata": {},
     "output_type": "execute_result"
    }
   ],
   "source": [
    "# Take the fourth power of each entry of my_array\n",
    "my_array ** 4"
   ]
  },
  {
   "cell_type": "markdown",
   "id": "533f7bbb",
   "metadata": {},
   "source": [
    "You can access the shape of the array by the `shape` attribute:"
   ]
  },
  {
   "cell_type": "code",
   "execution_count": 25,
   "id": "75ac137e",
   "metadata": {},
   "outputs": [
    {
     "data": {
      "text/plain": [
       "(2, 3)"
      ]
     },
     "execution_count": 25,
     "metadata": {},
     "output_type": "execute_result"
    }
   ],
   "source": [
    "# How many rows and columns does my array have my_array?\n",
    "my_array.shape"
   ]
  },
  {
   "cell_type": "markdown",
   "id": "788d07ad",
   "metadata": {},
   "source": [
    "You can create arrays from other collections by using the `np.array()` function."
   ]
  },
  {
   "cell_type": "code",
   "execution_count": 26,
   "id": "9dfe8355",
   "metadata": {},
   "outputs": [
    {
     "name": "stdout",
     "output_type": "stream",
     "text": [
      "[3, 6, -2, 3, 6, -2, 3, 6, -2, 3, 6, -2] [ 6 12 -4]\n"
     ]
    }
   ],
   "source": [
    "my_list = [3, 6, -2]\n",
    "# Create my_array from my_list\n",
    "my_array = np.array(my_list)\n",
    "# Change the values of both my_list and my_array\n",
    "my_list *= 4  \n",
    "my_array *= 2\n",
    "\n",
    "# What results do you expect?\n",
    "print(my_list, my_array)"
   ]
  },
  {
   "cell_type": "code",
   "execution_count": 27,
   "id": "b042765e",
   "metadata": {},
   "outputs": [
    {
     "data": {
      "text/plain": [
       "[6, 12, -4]"
      ]
     },
     "execution_count": 27,
     "metadata": {},
     "output_type": "execute_result"
    }
   ],
   "source": [
    "my_list = [3, 6, -2]\n",
    "# create a list that contains 2 * each value of my_list elements\n",
    "new_list = [2 * val for val in my_list]\n",
    "new_list"
   ]
  },
  {
   "cell_type": "markdown",
   "id": "4f9465ec",
   "metadata": {},
   "source": [
    "You can create two-dimensional arrays from lists with equal length:"
   ]
  },
  {
   "cell_type": "code",
   "execution_count": 28,
   "id": "fd7ace5d",
   "metadata": {},
   "outputs": [
    {
     "data": {
      "text/plain": [
       "array([[ 1,  2,  3,  4],\n",
       "       [ 5,  6,  7,  8],\n",
       "       [ 9, 10, 11, 12]])"
      ]
     },
     "execution_count": 28,
     "metadata": {},
     "output_type": "execute_result"
    }
   ],
   "source": [
    "data1 = [[1, 2, 3, 4], [5, 6, 7, 8], [9, 10, 11, 12]]\n",
    "# Create 2D array from data1\n",
    "arr1 = np.array(data1)\n",
    "# print arr1\n",
    "arr1"
   ]
  },
  {
   "cell_type": "markdown",
   "id": "0b211c9c",
   "metadata": {},
   "source": [
    "A commonly used Numpy array method is `reshape((n1,n2))` which reshapes the array to a 2D array with n1 rows and n2 columns (can be applied to higher dimensional arrays). Another useful method is `ravel()`, which flattens the array"
   ]
  },
  {
   "cell_type": "code",
   "execution_count": 29,
   "id": "d0cf09f3",
   "metadata": {},
   "outputs": [
    {
     "data": {
      "text/plain": [
       "array([ 1,  2,  3,  4,  5,  6,  7,  8,  9, 10, 11, 12])"
      ]
     },
     "execution_count": 29,
     "metadata": {},
     "output_type": "execute_result"
    }
   ],
   "source": [
    "# range(1, 13) -> 1, 2, 3, ..., 12\n",
    "# Numpy's arange is similar to the range iterator but returns an array \n",
    "arr2 = np.arange(1, 13)\n",
    "# Print the array\n",
    "arr2"
   ]
  },
  {
   "cell_type": "code",
   "execution_count": 30,
   "id": "64ea068a",
   "metadata": {},
   "outputs": [
    {
     "data": {
      "text/plain": [
       "array([[ 1,  2,  3,  4],\n",
       "       [ 5,  6,  7,  8],\n",
       "       [ 9, 10, 11, 12]])"
      ]
     },
     "execution_count": 30,
     "metadata": {},
     "output_type": "execute_result"
    }
   ],
   "source": [
    "# Reshape the array to 3x4 two-dimensional array\n",
    "arr2.reshape((3, 4))"
   ]
  },
  {
   "cell_type": "code",
   "execution_count": 31,
   "id": "371dd3b1",
   "metadata": {},
   "outputs": [
    {
     "data": {
      "text/plain": [
       "array([ 1,  2,  3,  4,  5,  6,  7,  8,  9, 10, 11, 12])"
      ]
     },
     "execution_count": 31,
     "metadata": {},
     "output_type": "execute_result"
    }
   ],
   "source": [
    "# Reshape the array to 2 rows and assign to arr3\n",
    "arr3 = arr2.reshape((2, -1))\n",
    "\n",
    "# Flatten arr3\n",
    "arr3.ravel()"
   ]
  },
  {
   "cell_type": "markdown",
   "id": "142303fe",
   "metadata": {},
   "source": [
    "You can compare two numerical arrays to form a Boolean array.\n",
    "\n",
    "Create two standard normally distributed 2d (2x4) arrays and check whether the entry in the first array is greater than or equal to the second array entry."
   ]
  },
  {
   "cell_type": "code",
   "execution_count": 32,
   "id": "82bd43c0",
   "metadata": {},
   "outputs": [
    {
     "data": {
      "text/plain": [
       "array([[ True,  True,  True,  True],\n",
       "       [ True,  True, False, False]])"
      ]
     },
     "execution_count": 32,
     "metadata": {},
     "output_type": "execute_result"
    }
   ],
   "source": [
    "arr1 = np.random.standard_normal((2, 4))\n",
    "arr2 = np.random.standard_normal((2, 4))\n",
    "\n",
    "# create the boolean array that contains whether arr1 value is greater than or equal to arr2 value\n",
    "arr1 >= arr2"
   ]
  },
  {
   "cell_type": "markdown",
   "id": "31a43233",
   "metadata": {},
   "source": [
    "## Indexing and Slicing Numpy Arrays\n",
    "Indexing and slicing are done in a very similar way to lists and tuples. If the array is high dimensional (at least 2), you provide indices for all dimensions."
   ]
  },
  {
   "cell_type": "code",
   "execution_count": 33,
   "id": "b345bbf8",
   "metadata": {},
   "outputs": [
    {
     "name": "stdout",
     "output_type": "stream",
     "text": [
      "6\n",
      "[-2  7  9]\n"
     ]
    }
   ],
   "source": [
    "arr1 = np.array([3, 6, -2, 7, 9])\n",
    "# The element in index 1\n",
    "print(arr1[1])\n",
    "# Slice that starts with the index 2 up until the end\n",
    "print(arr1[2:])"
   ]
  },
  {
   "cell_type": "markdown",
   "id": "6ad84fe3",
   "metadata": {},
   "source": [
    "With Numpy arrays, you can pass multiple indices as a list:"
   ]
  },
  {
   "cell_type": "code",
   "execution_count": 34,
   "id": "15afac83",
   "metadata": {},
   "outputs": [
    {
     "data": {
      "text/plain": [
       "array([ 3, -2,  7])"
      ]
     },
     "execution_count": 34,
     "metadata": {},
     "output_type": "execute_result"
    }
   ],
   "source": [
    "# Subscript elements at index 0, 2, and 3\n",
    "arr1[[0, 2, 3]]"
   ]
  },
  {
   "cell_type": "markdown",
   "id": "72a223e0",
   "metadata": {},
   "source": [
    "Working with 2D arrays:"
   ]
  },
  {
   "cell_type": "code",
   "execution_count": 35,
   "id": "33cd9eb1",
   "metadata": {},
   "outputs": [
    {
     "data": {
      "text/plain": [
       "array([[ 0,  1,  2],\n",
       "       [ 3,  4,  5],\n",
       "       [ 6,  7,  8],\n",
       "       [ 9, 10, 11]])"
      ]
     },
     "execution_count": 35,
     "metadata": {},
     "output_type": "execute_result"
    }
   ],
   "source": [
    "arr2 = np.arange(12).reshape(4,3)\n",
    "arr2"
   ]
  },
  {
   "cell_type": "code",
   "execution_count": 36,
   "id": "f8903bb9",
   "metadata": {},
   "outputs": [
    {
     "data": {
      "text/plain": [
       "5"
      ]
     },
     "execution_count": 36,
     "metadata": {},
     "output_type": "execute_result"
    }
   ],
   "source": [
    "# Subscript to the element in row 1 and column 2\n",
    "arr2[1, 2]"
   ]
  },
  {
   "cell_type": "code",
   "execution_count": 37,
   "id": "c258f13d",
   "metadata": {},
   "outputs": [
    {
     "data": {
      "text/plain": [
       "array([[ 6,  8],\n",
       "       [ 9, 11]])"
      ]
     },
     "execution_count": 37,
     "metadata": {},
     "output_type": "execute_result"
    }
   ],
   "source": [
    "# Dice to the sub-matrix from row 2 to the last row and columns 0 and 2 (not 1)\n",
    "arr2[2:, 0:3:2]"
   ]
  },
  {
   "cell_type": "markdown",
   "id": "b3442c81",
   "metadata": {},
   "source": [
    "You can then assign values to these slices. If you assign a scalar, its value is repeated for each entry."
   ]
  },
  {
   "cell_type": "code",
   "execution_count": 38,
   "id": "4bcd5dcd",
   "metadata": {},
   "outputs": [
    {
     "data": {
      "text/plain": [
       "array([[  0,   1,   2],\n",
       "       [  3,   4,   5],\n",
       "       [100,   7, 100],\n",
       "       [100,  10, 100]])"
      ]
     },
     "execution_count": 38,
     "metadata": {},
     "output_type": "execute_result"
    }
   ],
   "source": [
    "# For the dice above, assign the values to 100\n",
    "arr2[2:, 0:3:2] = 100\n",
    "\n",
    "# Print arr2\n",
    "arr2"
   ]
  },
  {
   "cell_type": "markdown",
   "id": "aa85188f",
   "metadata": {},
   "source": [
    "You can also index by using logical conditions, which you can equally apply to other collections such as lists and tuples. "
   ]
  },
  {
   "cell_type": "code",
   "execution_count": 39,
   "id": "d2daf18b",
   "metadata": {},
   "outputs": [
    {
     "data": {
      "text/plain": [
       "array([[ 0.        ,  1.        ,  2.        ],\n",
       "       [ 3.        ,  4.        ,  5.        ],\n",
       "       [10.13505641,  7.15050363,  8.91123455],\n",
       "       [10.22184518,  7.69801285, 10.75139604]])"
      ]
     },
     "execution_count": 39,
     "metadata": {},
     "output_type": "execute_result"
    }
   ],
   "source": [
    "# Data type conversion needed for the next replacement (remember homogeneous types)\n",
    "arr2 = arr2.astype(np.float64)\n",
    "\n",
    "# Identify the elements of arr2 which are greater than or equal to 7\n",
    "arr2 >= 7\n",
    "\n",
    "# Set the values >= 7 to normal random numbers with mean 10, std dev =2\n",
    "arr2[arr2 >= 7] = np.random.normal(10, 2, np.sum(arr2 >= 7))\n",
    "arr2"
   ]
  },
  {
   "cell_type": "markdown",
   "id": "95ab759a",
   "metadata": {},
   "source": [
    "## Numpy functions\n",
    "Numpy provides a wide range of functions and methods that can be applied efficiently on arrays.  \n",
    "\n",
    "**Unary functions**:\n",
    "They are all element-wise transformations.\n",
    "- `abs`: Compute the absolute value\n",
    "- `sqrt`: Compute the square root\n",
    "- `exp`: Compute the exponential\n",
    "- `log`,`log10`: Natural logarithm, log base 10\n",
    "- `sign`: Compute the sign\n",
    "- `rint`: Round to the nearest integer\n",
    "- `isnan`: Return boolean array indicating whether each value is NaN (Not a Number)\n",
    "- `cos`, `cosh`, `sin`, `sinh`, `tan`, `tanh`: Regular and hyperbolic trigonometric functions\n",
    "\n",
    "**Binary functions:**\n",
    "They take two arrays and return a single array as the result. \n",
    "- `maximum`: Element-wise maximum\n",
    "- `minimum`: Element-wise minimum\n",
    "- `mod`: Element-wise modulus"
   ]
  },
  {
   "cell_type": "code",
   "execution_count": 40,
   "id": "08745d9f",
   "metadata": {},
   "outputs": [
    {
     "name": "stdout",
     "output_type": "stream",
     "text": [
      "[1.00000000e+00 2.71828183e+00 7.38905610e+00 2.00855369e+01\n",
      " 5.45981500e+01 1.48413159e+02 4.03428793e+02 1.09663316e+03\n",
      " 2.98095799e+03 8.10308393e+03]\n"
     ]
    }
   ],
   "source": [
    "# Create an array of 0, 1, ...,9\n",
    "arr1 = np.arange(10)\n",
    "# Exponentiate that array elementwise\n",
    "print(np.exp(arr1))"
   ]
  },
  {
   "cell_type": "markdown",
   "id": "2221509e",
   "metadata": {},
   "source": [
    "Create two standard normal 2d (2x4) arrays and choose the maximum of the two arrays for each element"
   ]
  },
  {
   "cell_type": "code",
   "execution_count": 41,
   "id": "60878d52",
   "metadata": {},
   "outputs": [
    {
     "data": {
      "text/plain": [
       "(array([[-0.60063869, -0.29169375, -0.60170661,  1.85227818],\n",
       "        [-0.01349722, -1.05771093,  0.82254491, -1.22084365]]),\n",
       " array([[ 0.2088636 , -1.95967012, -1.32818605,  0.19686124],\n",
       "        [ 0.73846658,  0.17136828, -0.11564828, -0.3011037 ]]),\n",
       " array([[ 0.2088636 , -0.29169375, -0.60170661,  1.85227818],\n",
       "        [ 0.73846658,  0.17136828,  0.82254491, -0.3011037 ]]))"
      ]
     },
     "execution_count": 41,
     "metadata": {},
     "output_type": "execute_result"
    }
   ],
   "source": [
    "arr1 = np.random.standard_normal((2, 4))\n",
    "arr2 = np.random.standard_normal((2, 4))\n",
    "# Create arr3, which is elemtwise maximum of the two\n",
    "arr3 = np.maximum(arr1, arr2)\n",
    "\n",
    "# Print arr1, arr2, arr3\n",
    "arr1, arr2, arr3"
   ]
  },
  {
   "cell_type": "code",
   "execution_count": 42,
   "id": "cf9a19c4",
   "metadata": {},
   "outputs": [
    {
     "data": {
      "text/plain": [
       "array([[ 0,  1,  2],\n",
       "       [ 3,  4,  5],\n",
       "       [ 6,  7,  8],\n",
       "       [ 9, 10, 11]])"
      ]
     },
     "execution_count": 42,
     "metadata": {},
     "output_type": "execute_result"
    }
   ],
   "source": [
    "arr = np.arange(12).reshape(4,3)\n",
    "arr"
   ]
  },
  {
   "cell_type": "code",
   "execution_count": 43,
   "id": "9f92ed4a",
   "metadata": {},
   "outputs": [
    {
     "data": {
      "text/plain": [
       "(5.5, 66, 3.452052529534663)"
      ]
     },
     "execution_count": 43,
     "metadata": {},
     "output_type": "execute_result"
    }
   ],
   "source": [
    "# Overall mean, sum, standard deviation\n",
    "arr.mean(), arr.sum(), arr.std()"
   ]
  },
  {
   "cell_type": "code",
   "execution_count": 44,
   "id": "f6ff21e7",
   "metadata": {},
   "outputs": [
    {
     "data": {
      "text/plain": [
       "array([4.5, 5.5, 6.5])"
      ]
     },
     "execution_count": 44,
     "metadata": {},
     "output_type": "execute_result"
    }
   ],
   "source": [
    "# Mean across the rows\n",
    "arr.mean(axis=0)"
   ]
  },
  {
   "cell_type": "code",
   "execution_count": 45,
   "id": "ffbc5464",
   "metadata": {},
   "outputs": [
    {
     "data": {
      "text/plain": [
       "array([ 2,  5,  8, 11])"
      ]
     },
     "execution_count": 45,
     "metadata": {},
     "output_type": "execute_result"
    }
   ],
   "source": [
    "# Maximum across the columns\n",
    "arr.max(axis=1)  "
   ]
  },
  {
   "cell_type": "markdown",
   "id": "8e7cf61f",
   "metadata": {},
   "source": [
    "## Exercise\n",
    "\n",
    "Now complete the following exercises to practice the concepts you learned in this session. \n",
    "\n",
    "This is similar to the exercise in Session 1, but by using functions and loops. We have two lists of grades and student names, matching each other in order. We ask you to clean the names and return a dictionary of mark class:\n",
    "- D: Distinction, \\[70, 100\\]\n",
    "- M: Merit, \\[60, 70\\)\n",
    "- P: Pass, \\[50, 60\\) \n",
    "- F: Fail, \\[0, 50\\)"
   ]
  },
  {
   "cell_type": "code",
   "execution_count": null,
   "id": "4f1545d5",
   "metadata": {},
   "outputs": [],
   "source": [
    "# Part 1\n",
    "# import package for regular expressions\n",
    "__\n",
    "\n",
    "# create the list of student names\n",
    "names = ['SamWise! Gamgee', ' Frodo Baggins111 ', '*Pippin Took*', ' Merry Brandybuck', \n",
    "         ' Galadriel30', 'Gandalf:', 'Gollum.', 'Elrond?', 'Gimli', ' Legolas ', '!Arwen#', ' Boromir? ', '#Aragorn# ']\n",
    "\n",
    "# characters to remove from the names\n",
    "remove_chars = '[.,:_!#?*0-9]'\n",
    "\n",
    "# create a function that removes remove_chars from a given name and coverts to title case\n",
    "__ __(__):\n",
    "    __ = __.__() #remove the beginning and ending white spaces and new lines\n",
    "    __ = __.__(__, __, __) #remove unwanted characters\n",
    "    __ = __.__() #first letter capital \n",
    "    return __\n",
    "\n",
    "# Clean the names of the students\n",
    "cleaned_names = __"
   ]
  },
  {
   "cell_type": "code",
   "execution_count": null,
   "id": "2a7c8628",
   "metadata": {},
   "outputs": [],
   "source": [
    "# Part 2\n",
    "# create a list of student IDs such that 'Samwise Gamgee' has ID QMUL_Msc_BA_1, 'Frodo Baggins' has ID QMUL_Msc_BA_2, etc.\n",
    "prefix = 'QMUL_MSc_BA'\n",
    "student_ids = __\n",
    "\n",
    "# list of grades\n",
    "grades = [90, 76, 55, 57, 82, 85, 68, 65, 63, 74, 71, 43, 78]\n",
    "\n",
    "# write a function that returns F, P, M, or D depensing on the score\n",
    "__\n",
    "\n",
    "# calculate student mark class and store it as a list\n",
    "student_class = __\n",
    "\n",
    "# Create a dictionary with the student ID as the key and tupe of student name, grade, and grade class as value,\n",
    "# e.g. 'QMUL_MSc_BA1': ('Samwise Gamgee', 90, 'D'), 'QMUL_MSc_BA2': ('Frodo Baggins', 76, 'D' ...\n",
    "# Hint: You can use zip at two levels inside zip the lists to create the tupples and then zip again with the keys\n",
    "students = dict(zip(__, zip(__, __, __)))\n",
    "\n",
    "# print the dictionary \n",
    "students"
   ]
  },
  {
   "cell_type": "code",
   "execution_count": null,
   "id": "a36e3eb1",
   "metadata": {},
   "outputs": [],
   "source": [
    "# Part 3 Numpy exercises\n",
    "\n",
    "import numpy as np\n",
    "\n",
    "# 1. Append a list to the end of an array\n",
    "#Hint: Use the append function\n",
    "\n",
    "arr1 = np.array([1, 2, 3, 4])\n",
    "\n",
    "# Create a list of odd numbers from 5 to 25 (inclusive)\n",
    "list1 = __(5, 26, __)\n",
    "\n",
    "# append list1 to  arr1 \n",
    "arr2 = __.append(__, __)\n",
    "\n",
    "#print arr2\n",
    "arr2"
   ]
  },
  {
   "cell_type": "code",
   "execution_count": null,
   "id": "930804ae",
   "metadata": {},
   "outputs": [],
   "source": [
    "# 2.Test which elements of an array is contained in another array\n",
    "# Hint use the isin function\n",
    "\n",
    "list2 = [0, -1, 1]\n",
    "list3 = [9, -7, 1, 0, 0.01]\n",
    "\n",
    "# Check whether the elements of list2 are in list3\n",
    "__"
   ]
  },
  {
   "cell_type": "code",
   "execution_count": null,
   "id": "50cd81c7",
   "metadata": {},
   "outputs": [],
   "source": [
    "# 3. Flatten a given list\n",
    "\n",
    "list4 = [[9, 7, -3], [1, 0, 9], [-2, np.nan, np.inf]]\n",
    "\n",
    "# Flatten list4\n",
    "arr4 = np.__(list4)\n",
    "# Print arr4\n",
    "arr4"
   ]
  },
  {
   "cell_type": "code",
   "execution_count": null,
   "id": "e93c18d8",
   "metadata": {},
   "outputs": [],
   "source": [
    "# 4. Write a function to find the value of the smallest entry in an array for which the value is equal to greater than the mean \n",
    "\n",
    "__ greater_than_mean_fn(arr):\n",
    "    # Create a copy of the arr array\n",
    "    x = arr.__()\n",
    "    # Sort x (note: arr remains untouched)\n",
    "    x.sort()\n",
    "    # Find the first value that is larger the mean of the array\n",
    "    # Hint: the list is already sorted. Filter according to whether greater than or equal to the mean and choose the one\n",
    "    # with zero index\n",
    "    val = __\n",
    "    return val\n",
    "\n",
    "# Test with arr5\n",
    "arr5 = np.array([13, 6, -2, 8, 3, 7, 4])\n",
    "\n",
    "# What is the smallest value in arr5 that is greater than its mean?\n",
    "__(arr5)"
   ]
  },
  {
   "cell_type": "code",
   "execution_count": null,
   "id": "fe03a3e6",
   "metadata": {},
   "outputs": [],
   "source": [
    "# 5. Swap two rows in a 2d Numpy array\n",
    "\n",
    "# Create a 4-by-5 2d numpy array of random integers from 0 to 100\n",
    "arr6 = np.random.__(__, __, __)\n",
    "print('Before swap: \\n', arr6)\n",
    "\n",
    "# Swap the first and last rows\n",
    "arr6[__, __] = arr6[__, __]\n",
    "print('After swap: \\n', arr6)"
   ]
  },
  {
   "cell_type": "markdown",
   "id": "13638fe1",
   "metadata": {},
   "source": [
    "## What to expect next?\n",
    "- In our next session, we will move onto Pandas to work with data. \n",
    "- In your own time, you can work on other online exercises or tutorials on the topics you learned in this session. There are many free resources on the web."
   ]
  }
 ],
 "metadata": {
  "kernelspec": {
   "display_name": "python_tutorials",
   "language": "python",
   "name": "python_tutorials"
  },
  "language_info": {
   "codemirror_mode": {
    "name": "ipython",
    "version": 3
   },
   "file_extension": ".py",
   "mimetype": "text/x-python",
   "name": "python",
   "nbconvert_exporter": "python",
   "pygments_lexer": "ipython3",
   "version": "3.10.9"
  }
 },
 "nbformat": 4,
 "nbformat_minor": 5
}

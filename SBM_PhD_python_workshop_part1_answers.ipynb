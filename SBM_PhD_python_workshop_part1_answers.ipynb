{
 "cells": [
  {
   "cell_type": "markdown",
   "metadata": {},
   "source": [
    "[![Open In Colab](https://colab.research.google.com/assets/colab-badge.svg)](https://colab.research.google.com/github/guvendemirel/QMULSBM_PhDWorkshop/blob/master/SBM_PhD_python_workshop_part1.ipynb)"
   ]
  },
  {
   "cell_type": "markdown",
   "metadata": {
    "id": "el1q_hmVNDT8"
   },
   "source": [
    "# QMUL SBM PHD Python Workshop \n",
    "## Part 1 - Introduction to Python Programming\n",
    "\n",
    "This is the first part of the PhD Workshop on [Python](https://www.python.org/) programming. In the first session, we will introduce the basics of programming with Python, in which we will look at variable assignments and different data types (numerical, text, list, tuples, sets, and dictionaries). In the next sessions, we will continue with building blocks of programming (conditional statements, loops, functions), the Numpy package, reading and cleaning tabular data and EDA with Pandas and processing textual data with natural language processing techniques.\n",
    "\n",
    "## Install Python and Jupyter Notebook on Your Personal Computers\n",
    "\n",
    "You can install Python and Jupyter Notebook by downloading the most recent stable version of the [Anaconda](https://www.anaconda.com/products/individual) distribution. Different interpreters and development environments can be used with Python. We will use the [Jupyter Notebook](https://jupyter.org/), which is a web browser based application that allows you to run and to insert text, equations, and graphics. These can be directly opened on Google Colab as well.\n",
    "\n",
    "After installation, you can open a Jupyter notebook into which you can write code and execute. Follow the steps on [Jupyter Notebook website](https://jupyter-notebook-beginner-guide.readthedocs.io/en/latest/execute.html) for operating system specific instructions, which involves running `jupyter notebook` in a terminal. You can `rename` and `save` notebooks from the `File` menu.\n",
    "\n",
    "## Markdown and Code Cells\n",
    "\n",
    "You can insert **code** and **markdown** cells into Jupyter notebooks. Code cells are for typing and running Python code. Markdown cells are for the text content and organizing and formatting documents. \n",
    "\n",
    "You can add section titles by `#`, `##`, `###`, you can create numbered and bullet lists by starting the line with the corresponding marker, e.g. `1.`,`2.`, `3.`. You can format text for instance by `*italic_text*` and `**bold_text**`. Visit [Markdown Guide](https://www.markdownguide.org/) for further details.  \n",
    "\n",
    "You can change the cell type from the drop-down menu at the top or choose the cell and press the keys <kbd>y</kbd> and <kbd>m</kbd> for the code and the markdown cells, respectively. In Google Colab, you need to press <kbd>ctrl</kbd> + <kbd>m</kbd> + <kbd>y</kbd> and <kbd>ctrl</kbd> + <kbd>m</kbd> + <kbd>m</kbd>, respectively.\n",
    "\n",
    "Python is an interpreted language, meaning that you can freely execute different segments of code (which are cells on Jupyter notebooks) without the need to compile it first to the machine code. This reduces the development time and facilitates experimentation with data in an interactive way but slows down execution, especially for computationally intensive tasks. This is why most heavy computations are implemented in other languages such as C and C++, which is then wrapped in Python. \n",
    "\n",
    "If you click on *Run* or hit <kbd>shift</kbd>+<kbd>enter</kbd>  (also <kbd>ctrl</kbd>+<kbd>enter</kbd> in Jupyter notebook) shortcuts, it runs the selected cell (more options under *Cell*).  \n",
    "\n",
    "## Getting Started\n",
    "\n",
    "We shall now start using Python as a simple calculator. You can use the operators `+` (add), `-` (substract), `*` (multiply), `/` (divide), `**` (power), `%` (modulus) in *expressions*. For instance:"
   ]
  },
  {
   "cell_type": "code",
   "execution_count": 1,
   "metadata": {
    "id": "Bx4GOe34UA7H"
   },
   "outputs": [
    {
     "data": {
      "text/plain": [
       "-5.0"
      ]
     },
     "execution_count": 1,
     "metadata": {},
     "output_type": "execute_result"
    }
   ],
   "source": [
    "# Calculate (3 - 5 * 1.8) / 1.2\n",
    "(3 - 5 * 1.8) / 1.2"
   ]
  },
  {
   "cell_type": "markdown",
   "metadata": {
    "id": "Pl8R4BDgUKHp"
   },
   "source": [
    "### Variable Assignment\n",
    "\n",
    "Assign the outcome of an expression on the right of the equation to the variable. "
   ]
  },
  {
   "cell_type": "code",
   "execution_count": 2,
   "metadata": {
    "id": "m8-OoJsXUM0e"
   },
   "outputs": [],
   "source": [
    "# Assign square of 3 to x\n",
    "x = 3 ** 2"
   ]
  },
  {
   "cell_type": "markdown",
   "metadata": {
    "id": "q8iJtTkoUPPB"
   },
   "source": [
    "You can print the value of the variable `x` by simply running `x` or `print(x)`. `print()` is the first *function* we are seeing and using. A function is a block of code that takes inputs through its arguments, performs some taks, and potentially returns a value at the end."
   ]
  },
  {
   "cell_type": "code",
   "execution_count": 3,
   "metadata": {
    "id": "pSeTatzLUXGK"
   },
   "outputs": [
    {
     "name": "stdout",
     "output_type": "stream",
     "text": [
      "9\n"
     ]
    }
   ],
   "source": [
    "print(x)"
   ]
  },
  {
   "cell_type": "markdown",
   "metadata": {
    "id": "NZR36EwHUivD"
   },
   "source": [
    "Some dataypes such as integers, floating numbers, and strings are *immutable*, meaning that if you try to alter the value, Python basically creates a new object with the same name.\n",
    "\n",
    "Check what results you expect to see:"
   ]
  },
  {
   "cell_type": "code",
   "execution_count": 5,
   "metadata": {
    "id": "BWEzxDQ4UrFD"
   },
   "outputs": [
    {
     "name": "stdout",
     "output_type": "stream",
     "text": [
      "x:20, y:10\n"
     ]
    }
   ],
   "source": [
    "x = 10\n",
    "y = x \n",
    "x *= 2 #This is called augmented assignment and it is equivalent to x = x * 2\n",
    "print(f'x:{x}, y:{y}') #You can print multiple values by putting a comma in between "
   ]
  },
  {
   "cell_type": "markdown",
   "metadata": {
    "id": "RJyqHdzQN-z1"
   },
   "source": [
    "## Data Types\n",
    "\n",
    "Python has several built-in data types and you can define new types by creating classes. A thorough coverage of object-oriented programming is beyond the scope of this workshop. \n",
    "\n",
    "You can learn the type of an object by calling the `type` function. Here we focus on the most fundamental data types. \n",
    "\n",
    "### Numeric Data Types\n",
    "The numeric data is held as integers (`int`) and floating numbers (`float`). "
   ]
  },
  {
   "cell_type": "code",
   "execution_count": 6,
   "metadata": {
    "id": "CROQfel-Vc49"
   },
   "outputs": [
    {
     "name": "stdout",
     "output_type": "stream",
     "text": [
      "<class 'int'> <class 'float'> <class 'float'>\n"
     ]
    }
   ],
   "source": [
    "x = 1\n",
    "y = 2.8\n",
    "# Print the types of the variables x and y\n",
    "print(type(x), type(y), type(x + y)) "
   ]
  },
  {
   "cell_type": "markdown",
   "metadata": {
    "id": "CkkS68EkVreC"
   },
   "source": [
    "For numerical computations, the most commonly used Python package (library) is `numpy`, which most importantly provides a collection of mathematical functions and the `array` type (`ndarray`). We will look at `numpy` in more detail in the next session, but we shall now illustrate how it is used. For using functions or classes from a package, you should first `import` the package."
   ]
  },
  {
   "cell_type": "code",
   "execution_count": 7,
   "metadata": {
    "id": "22O3ag__VtgJ"
   },
   "outputs": [],
   "source": [
    "import numpy as np # np is an alias for numpy, which we will use to access numpy functions"
   ]
  },
  {
   "cell_type": "markdown",
   "metadata": {
    "id": "Abr4kmfZV1bx"
   },
   "source": [
    "We can now call the functions and constants from the `numpy` package by for instance`np.sqrt()`."
   ]
  },
  {
   "cell_type": "code",
   "execution_count": 8,
   "metadata": {
    "id": "fAxeJOmeVvst"
   },
   "outputs": [
    {
     "name": "stdout",
     "output_type": "stream",
     "text": [
      "4.87364346115867\n"
     ]
    }
   ],
   "source": [
    "# Print the result of the expression pi + sqrt(3)\n",
    "print(np.pi + np.sqrt(3))"
   ]
  },
  {
   "cell_type": "markdown",
   "metadata": {
    "id": "lA7YPI13aM03"
   },
   "source": [
    "### Text Data Type\n",
    "\n",
    "The text data type in Python is `str`, which is immutable but iterable. You define a `str` by using `''` or `\"\"`. "
   ]
  },
  {
   "cell_type": "code",
   "execution_count": 9,
   "metadata": {
    "id": "q9fSdV2BaOcB"
   },
   "outputs": [],
   "source": [
    "# Assign your first name and last name to the respective variables\n",
    "first_name = 'Guven'\n",
    "last_name = 'Demirel'"
   ]
  },
  {
   "cell_type": "markdown",
   "metadata": {
    "id": "eRNcMPNXaRT1"
   },
   "source": [
    "You can concatenate `str` objects by `+`: "
   ]
  },
  {
   "cell_type": "code",
   "execution_count": 10,
   "metadata": {
    "id": "3ffS-w6vaSFH"
   },
   "outputs": [
    {
     "data": {
      "text/plain": [
       "'Guven Demirel'"
      ]
     },
     "execution_count": 10,
     "metadata": {},
     "output_type": "execute_result"
    }
   ],
   "source": [
    "# Create your full name variable\n",
    "name = first_name + ' ' + last_name\n",
    "# Print your full name:\n",
    "name"
   ]
  },
  {
   "cell_type": "markdown",
   "metadata": {
    "id": "_lclO3EyaUB3"
   },
   "source": [
    "You can access the individual characters in your string variable, because it is iterable. Python is zero-indexed, meaning that the index of the first, second, third elements are 0, 1, 2, .... The subscripting is done by `x[n]`, which returns the fourth element of the iterable x. "
   ]
  },
  {
   "cell_type": "code",
   "execution_count": 11,
   "metadata": {
    "id": "4CTCHmiyaV85"
   },
   "outputs": [
    {
     "data": {
      "text/plain": [
       "'u'"
      ]
     },
     "execution_count": 11,
     "metadata": {},
     "output_type": "execute_result"
    }
   ],
   "source": [
    "# Print the second letter of your name\n",
    "name[1]"
   ]
  },
  {
   "cell_type": "markdown",
   "metadata": {
    "id": "xw2nmupWaYDf"
   },
   "source": [
    "The last element can be accessed by -1 and you can go backwards by -1, -2, -3, etc."
   ]
  },
  {
   "cell_type": "code",
   "execution_count": 12,
   "metadata": {
    "id": "KJt2QwA9aaN4"
   },
   "outputs": [
    {
     "name": "stdout",
     "output_type": "stream",
     "text": [
      "G u e l\n"
     ]
    }
   ],
   "source": [
    "# Print the first two and last two letters of your name, \n",
    "print(name[0], name[1], name[-2], name[-1])"
   ]
  },
  {
   "cell_type": "markdown",
   "metadata": {
    "id": "TrGo3iRhahdQ"
   },
   "source": [
    "You can *slice* the string by giving the first (inclusive) and last (exclusive) indices from which to slice. For instance, `x[1:4]` returns the x elements in indices 1, 2, and 3.  "
   ]
  },
  {
   "cell_type": "code",
   "execution_count": 14,
   "metadata": {
    "id": "pxHb4WPHamDv"
   },
   "outputs": [
    {
     "data": {
      "text/plain": [
       "'uve'"
      ]
     },
     "execution_count": 14,
     "metadata": {},
     "output_type": "execute_result"
    }
   ],
   "source": [
    "# Return the second to fourth letters of your name, including both\n",
    "name[1:4]"
   ]
  },
  {
   "cell_type": "markdown",
   "metadata": {
    "id": "T2ofAQxDapSj"
   },
   "source": [
    "Note that you cannot change this value because `str` objects are immutable."
   ]
  },
  {
   "cell_type": "code",
   "execution_count": 15,
   "metadata": {
    "id": "KpdTU4RmaqJp"
   },
   "outputs": [
    {
     "ename": "TypeError",
     "evalue": "'str' object does not support item assignment",
     "output_type": "error",
     "traceback": [
      "\u001b[1;31m---------------------------------------------------------------------------\u001b[0m",
      "\u001b[1;31mTypeError\u001b[0m                                 Traceback (most recent call last)",
      "Cell \u001b[1;32mIn[15], line 2\u001b[0m\n\u001b[0;32m      1\u001b[0m \u001b[38;5;66;03m# Try the following\u001b[39;00m\n\u001b[1;32m----> 2\u001b[0m name[\u001b[38;5;241m3\u001b[39m] \u001b[38;5;241m=\u001b[39m \u001b[38;5;124m'\u001b[39m\u001b[38;5;124mz\u001b[39m\u001b[38;5;124m'\u001b[39m\n",
      "\u001b[1;31mTypeError\u001b[0m: 'str' object does not support item assignment"
     ]
    }
   ],
   "source": [
    "# Try the following\n",
    "name[3] = 'z'"
   ]
  },
  {
   "cell_type": "markdown",
   "metadata": {
    "id": "upuJTogLauqh"
   },
   "source": [
    "You can get the length of a `str` object (and any iterable) by calling the `len()` function:"
   ]
  },
  {
   "cell_type": "code",
   "execution_count": 16,
   "metadata": {
    "id": "BzazGrd2awAy"
   },
   "outputs": [
    {
     "data": {
      "text/plain": [
       "13"
      ]
     },
     "execution_count": 16,
     "metadata": {},
     "output_type": "execute_result"
    }
   ],
   "source": [
    "# Print the number of letters in your name\n",
    "len(name)"
   ]
  },
  {
   "cell_type": "markdown",
   "metadata": {
    "id": "ocxuxXXmax9f"
   },
   "source": [
    "#### Str Methods\n",
    "When you create a string object, it comes equipped with a set of methods. Some useful methods are as follows. You can get a list of the methods by `dir(str)`\n",
    "- `split`: splits the string into words separated by the provided string to seperate (whitespace by default)\n",
    "- `count`: counts the appearance of provided substring in the string\n",
    "- `find`: returns the first instance of the substring\n",
    "- `isalpha`: returns `True` if all alphabetical letters, `False` otherwise\n",
    "- `isdigit`: returns `True` if all digits, `False` otherwise\n",
    "- `lower` (`upper`): change all letters to lower character\n",
    "- `replace`: replace all instances of the substring to the new substring \n",
    "- `join`: if you have a series of objects you can join them by the provided string"
   ]
  },
  {
   "cell_type": "code",
   "execution_count": 17,
   "metadata": {
    "id": "rRNAPPUDa8fP"
   },
   "outputs": [
    {
     "data": {
      "text/plain": [
       "['We', 'have', 'all', 'been', 'looking', 'forward', 'to', 'this', 'day']"
      ]
     },
     "execution_count": 17,
     "metadata": {},
     "output_type": "execute_result"
    }
   ],
   "source": [
    "sentence = \"We have all been looking forward to this day\"\n",
    "# split the sentence to a list of words\n",
    "words = sentence.split()\n",
    "#print words\n",
    "words"
   ]
  },
  {
   "cell_type": "code",
   "execution_count": 19,
   "metadata": {
    "id": "OitLouTda-UH"
   },
   "outputs": [
    {
     "name": "stdout",
     "output_type": "stream",
     "text": [
      "counts of \"the\": 2  - first \"the\" starts at index: 13\n"
     ]
    }
   ],
   "source": [
    "# Count the number of instances of the phrases \n",
    "#'THE' / 'the' / 'tHe' ... and also the start index of the first instance\n",
    "text = \"instances of THE, while the first starts at index\"\n",
    "print('counts of \"the\":', text.lower().count('the'), \n",
    "      ' - first \"the\" starts at index:', text.lower().find('the'))"
   ]
  },
  {
   "cell_type": "markdown",
   "metadata": {
    "id": "NUFj4eobbLvo"
   },
   "source": [
    "## LIST\n",
    "\n",
    "List is a sequence data type and provides an iterable collection of individual elements. You can create a list of any objects you want. For instance, a list of numbers, list of strings, list of numbers and strings mixed, list of lists, list of functions, basically list of any object."
   ]
  },
  {
   "cell_type": "code",
   "execution_count": 20,
   "metadata": {
    "id": "sj2m2_AJbM_G"
   },
   "outputs": [
    {
     "data": {
      "text/plain": [
       "[2, 7, 9]"
      ]
     },
     "execution_count": 20,
     "metadata": {},
     "output_type": "execute_result"
    }
   ],
   "source": [
    "# list of integers 2, 7, 9\n",
    "first_list = [2,7,9] \n",
    "# print the list\n",
    "first_list"
   ]
  },
  {
   "cell_type": "code",
   "execution_count": 21,
   "metadata": {
    "id": "3yOEatGnbQBe"
   },
   "outputs": [
    {
     "data": {
      "text/plain": [
       "['apple', 'orange']"
      ]
     },
     "execution_count": 21,
     "metadata": {},
     "output_type": "execute_result"
    }
   ],
   "source": [
    "# create a list of strings 'apple' and 'orange'\n",
    "second_list = ['apple', 'orange']\n",
    "# print the list \n",
    "second_list"
   ]
  },
  {
   "cell_type": "markdown",
   "metadata": {
    "id": "Ku_TdzqVbSTI"
   },
   "source": [
    "Empty list is created by `x = []`, which might be needed if you populate a list through a loop."
   ]
  },
  {
   "cell_type": "code",
   "execution_count": 22,
   "metadata": {
    "id": "GlVTZTaibVIk"
   },
   "outputs": [],
   "source": [
    "x = [] #empty list"
   ]
  },
  {
   "cell_type": "markdown",
   "metadata": {
    "id": "1J50QxBPbXw-"
   },
   "source": [
    "You can concatenate lists by using `+`."
   ]
  },
  {
   "cell_type": "code",
   "execution_count": 23,
   "metadata": {
    "id": "_HBqbJQebZ-K"
   },
   "outputs": [
    {
     "data": {
      "text/plain": [
       "[2, 7, 9, 'apple', 'orange']"
      ]
     },
     "execution_count": 23,
     "metadata": {},
     "output_type": "execute_result"
    }
   ],
   "source": [
    "# Append second_list to the end of the first_list\n",
    "first_list + second_list"
   ]
  },
  {
   "cell_type": "markdown",
   "metadata": {
    "id": "TSiM_3LRbdL4"
   },
   "source": [
    "You can convert other data types to list by the `list()` function, which is useful in some instances."
   ]
  },
  {
   "cell_type": "code",
   "execution_count": 24,
   "metadata": {
    "id": "hYrvWigPbfkn"
   },
   "outputs": [
    {
     "data": {
      "text/plain": [
       "['t', 'r', 'y', ' ', 't', 'h', 'i', 's', ' ', 'o', 'n', 'e']"
      ]
     },
     "execution_count": 24,
     "metadata": {},
     "output_type": "execute_result"
    }
   ],
   "source": [
    "my_string = 'try this one'\n",
    "# Create a list of characters in my_string\n",
    "list(my_string)"
   ]
  },
  {
   "cell_type": "markdown",
   "metadata": {
    "id": "E_RaSyNfbib7"
   },
   "source": [
    "Lists are iterable, which means you can index and slice lists, as for strings"
   ]
  },
  {
   "cell_type": "code",
   "execution_count": 25,
   "metadata": {
    "id": "yd9em7BrbjMw"
   },
   "outputs": [
    {
     "data": {
      "text/plain": [
       "'three'"
      ]
     },
     "execution_count": 25,
     "metadata": {},
     "output_type": "execute_result"
    }
   ],
   "source": [
    "x = [1, 4, \"three\", -2.8]\n",
    "# Subscript the element in index 2\n",
    "x[2]"
   ]
  },
  {
   "cell_type": "code",
   "execution_count": 26,
   "metadata": {
    "id": "vy661j1Qblrx"
   },
   "outputs": [
    {
     "data": {
      "text/plain": [
       "[1, 4, 'three']"
      ]
     },
     "execution_count": 26,
     "metadata": {},
     "output_type": "execute_result"
    }
   ],
   "source": [
    "# Slice the list of all elements except the last one\n",
    "x[:-1]"
   ]
  },
  {
   "cell_type": "markdown",
   "metadata": {
    "id": "Jp3HVYrobpCv"
   },
   "source": [
    "Lists are mutable, meaning you can change the values of individual elements, differently from strings and numerical basic datatypes."
   ]
  },
  {
   "cell_type": "code",
   "execution_count": 27,
   "metadata": {
    "id": "lSpFICb4bq1G"
   },
   "outputs": [
    {
     "data": {
      "text/plain": [
       "[1, 4, 3, -2.8]"
      ]
     },
     "execution_count": 27,
     "metadata": {},
     "output_type": "execute_result"
    }
   ],
   "source": [
    "# Change the value of \"three\" to 3\n",
    "x[2] = 3\n",
    "\n",
    "#Print x\n",
    "x"
   ]
  },
  {
   "cell_type": "markdown",
   "metadata": {
    "id": "m_cyyDTtbsin"
   },
   "source": [
    "### List Aliasing \n",
    "\n",
    "Lists are mutable and Python calls by object. When you assign one variable to another list, the two variables become alias for the same list object, which is also called shallow copy. You must keep this in mind when working with lists. "
   ]
  },
  {
   "cell_type": "code",
   "execution_count": 28,
   "metadata": {
    "id": "CCTVjW1Hbvku"
   },
   "outputs": [
    {
     "name": "stdout",
     "output_type": "stream",
     "text": [
      "[3, 6, -1] [3, 6, -1]\n"
     ]
    }
   ],
   "source": [
    "# What output do you expect from the following?\n",
    "x = [3, 6, 8]\n",
    "y = x\n",
    "y[2] = -1\n",
    "print(x, y)"
   ]
  },
  {
   "cell_type": "markdown",
   "metadata": {
    "id": "Ma1s2FN3by1V"
   },
   "source": [
    "If you want a deep copy, you can use the `list()` function."
   ]
  },
  {
   "cell_type": "code",
   "execution_count": 29,
   "metadata": {
    "id": "iKOW2GCyb0IC"
   },
   "outputs": [
    {
     "name": "stdout",
     "output_type": "stream",
     "text": [
      "[3, 6, [1, 7, 2]] [3, -1, [1, 7, 2]]\n"
     ]
    }
   ],
   "source": [
    "# What output do you expect from the following?\n",
    "x = [3, 6, [1, 7, 2]]\n",
    "y = list(x)\n",
    "y[1] = -1\n",
    "print(x, y)"
   ]
  },
  {
   "cell_type": "markdown",
   "metadata": {
    "id": "_ouw7en6b3N4"
   },
   "source": [
    "### List Methods\n",
    "There are various methods of lists for inserting, removing and sorting elements, which are mutator methods, meaning that they change the list object itself. You call the method `method1` of the object x by calling `x.method1()`.\n",
    "- `insert(ind, y)` inserts element `y` at index `ind` and shifts all consecutive items by one to the right\n",
    "- `append(y)` adds element `y` at the end of the list\n",
    "- `extend([y1, y2, y3])` append elements `y1`, `y2`, and `y3` at the end of the list\n",
    "- `pop(ind)` removes the element in index ind, remove the last element if no index provided\n",
    "- `sort()` sorts the list if it is sortable (numbers or strings)"
   ]
  },
  {
   "cell_type": "code",
   "execution_count": 30,
   "metadata": {
    "id": "-VGSJ-07b5wx"
   },
   "outputs": [
    {
     "data": {
      "text/plain": [
       "[-6, 2, 'anaconda', 'python', 3.1, [1.2, 0]]"
      ]
     },
     "execution_count": 30,
     "metadata": {},
     "output_type": "execute_result"
    }
   ],
   "source": [
    "y = [-6, 2, 'python', 3.1, [1.2, 0]]\n",
    "y.insert(2, 'anaconda')\n",
    "# What output do you expect?\n",
    "y"
   ]
  },
  {
   "cell_type": "code",
   "execution_count": 31,
   "metadata": {
    "id": "9NboIgW7b70G"
   },
   "outputs": [
    {
     "data": {
      "text/plain": [
       "[2, 'anaconda', 'python', 3.1, [1.2, 0], 'jupyter', -2, 6]"
      ]
     },
     "execution_count": 31,
     "metadata": {},
     "output_type": "execute_result"
    }
   ],
   "source": [
    "# Add 'jupyter' at the end of the list\n",
    "y.append('jupyter')\n",
    "# Add -2 and 6 at the end of the list\n",
    "y.extend([-2, 6])\n",
    "# Remove the first (zeroth index) element\n",
    "y.pop(0)\n",
    "# Print y\n",
    "y"
   ]
  },
  {
   "cell_type": "code",
   "execution_count": 32,
   "metadata": {
    "id": "5bP-5oYFb_AH"
   },
   "outputs": [
    {
     "data": {
      "text/plain": [
       "[-6, 2, 7]"
      ]
     },
     "execution_count": 32,
     "metadata": {},
     "output_type": "execute_result"
    }
   ],
   "source": [
    "list1 = [-6, 7, 2]\n",
    "# Sort the elements\n",
    "list1.sort()\n",
    "# Print list1\n",
    "list1"
   ]
  },
  {
   "cell_type": "code",
   "execution_count": 33,
   "metadata": {
    "id": "K1klSrxOcA7d"
   },
   "outputs": [
    {
     "ename": "TypeError",
     "evalue": "'<' not supported between instances of 'str' and 'float'",
     "output_type": "error",
     "traceback": [
      "\u001b[1;31m---------------------------------------------------------------------------\u001b[0m",
      "\u001b[1;31mTypeError\u001b[0m                                 Traceback (most recent call last)",
      "Cell \u001b[1;32mIn[33], line 3\u001b[0m\n\u001b[0;32m      1\u001b[0m \u001b[38;5;66;03m# What output do you expect?\u001b[39;00m\n\u001b[0;32m      2\u001b[0m list2 \u001b[38;5;241m=\u001b[39m [\u001b[38;5;241m0\u001b[39m, \u001b[38;5;241m-\u001b[39m\u001b[38;5;241m2.2\u001b[39m, \u001b[38;5;124m'\u001b[39m\u001b[38;5;124maccounting\u001b[39m\u001b[38;5;124m'\u001b[39m]\n\u001b[1;32m----> 3\u001b[0m \u001b[43mlist2\u001b[49m\u001b[38;5;241;43m.\u001b[39;49m\u001b[43msort\u001b[49m\u001b[43m(\u001b[49m\u001b[43m)\u001b[49m\n",
      "\u001b[1;31mTypeError\u001b[0m: '<' not supported between instances of 'str' and 'float'"
     ]
    }
   ],
   "source": [
    "# What output do you expect?\n",
    "list2 = [0, -2.2, 'accounting']\n",
    "list2.sort()"
   ]
  },
  {
   "cell_type": "markdown",
   "metadata": {
    "id": "VQnygdNzcFlu"
   },
   "source": [
    "## TUPLE\n",
    "A tuple is a fixed-length, immutable sequence of Python objects. It is very similar to list but cannot be altered. You can convert other sequence or iterable types to tuple using `tuple()` (similar to `list()`). Elements can be accessed with square brackets [] as for other sequence types."
   ]
  },
  {
   "cell_type": "code",
   "execution_count": 34,
   "metadata": {
    "id": "NsW_Y_2-cG_2"
   },
   "outputs": [
    {
     "data": {
      "text/plain": [
       "(1, 2, 3, 'a', None, [1, 6, 2])"
      ]
     },
     "execution_count": 34,
     "metadata": {},
     "output_type": "execute_result"
    }
   ],
   "source": [
    "# Create a tuple\n",
    "tup = 1, 2, 3, 'a', None, [1, 6, 2]\n",
    "tup"
   ]
  },
  {
   "cell_type": "code",
   "execution_count": 35,
   "metadata": {
    "id": "CbgJNxwUcJjJ"
   },
   "outputs": [
    {
     "data": {
      "text/plain": [
       "(3, 'a')"
      ]
     },
     "execution_count": 35,
     "metadata": {},
     "output_type": "execute_result"
    }
   ],
   "source": [
    "# Slice elements in indices 2 to 4 (exclusive)\n",
    "tup[2:4]"
   ]
  },
  {
   "cell_type": "code",
   "execution_count": 36,
   "metadata": {
    "id": "jM7qO6MQcKKp"
   },
   "outputs": [
    {
     "ename": "TypeError",
     "evalue": "'tuple' object does not support item assignment",
     "output_type": "error",
     "traceback": [
      "\u001b[1;31m---------------------------------------------------------------------------\u001b[0m",
      "\u001b[1;31mTypeError\u001b[0m                                 Traceback (most recent call last)",
      "Cell \u001b[1;32mIn[36], line 2\u001b[0m\n\u001b[0;32m      1\u001b[0m \u001b[38;5;66;03m# What do you expect?\u001b[39;00m\n\u001b[1;32m----> 2\u001b[0m tup[\u001b[38;5;241m-\u001b[39m\u001b[38;5;241m1\u001b[39m] \u001b[38;5;241m=\u001b[39m \u001b[38;5;241m0\u001b[39m\n\u001b[0;32m      3\u001b[0m tup\n",
      "\u001b[1;31mTypeError\u001b[0m: 'tuple' object does not support item assignment"
     ]
    }
   ],
   "source": [
    "# What do you expect?\n",
    "tup[-1] = 0\n",
    "tup"
   ]
  },
  {
   "cell_type": "code",
   "execution_count": 37,
   "metadata": {
    "id": "5paC0bavcMBj"
   },
   "outputs": [
    {
     "data": {
      "text/plain": [
       "(1, 2, 3, 'a', None, [1, -2, 2])"
      ]
     },
     "execution_count": 37,
     "metadata": {},
     "output_type": "execute_result"
    }
   ],
   "source": [
    "# What do you now expect?\n",
    "tup[-1][1] = -2\n",
    "tup"
   ]
  },
  {
   "cell_type": "markdown",
   "metadata": {
    "id": "6O4-2MwCcPl5"
   },
   "source": [
    "Tuples (and also lists) can be unpacked:"
   ]
  },
  {
   "cell_type": "code",
   "execution_count": null,
   "metadata": {
    "id": "_QvSerm5cRB1"
   },
   "outputs": [],
   "source": [
    "a = (-1, 1)\n",
    "x, y = a\n",
    "# What output do you expect?\n",
    "print(x, y)"
   ]
  },
  {
   "cell_type": "markdown",
   "metadata": {
    "id": "Elhyzt9NcYip"
   },
   "source": [
    "## SET\n",
    "A set is an unordered collection of unique elements. They can be created by the `set` constructor or using curly brackets {}. They are very handy because they allow set operations such as union, intersection, and difference.\n",
    "- Intersection of sets `a` and `b`: `a & b` or `a.intersection(b)`\n",
    "- Union of sets `a` and `b`: `a | b` or `a.union(b)`\n",
    "- Difference of set `a` from `b`: `a - b` or  `a.difference(b)`"
   ]
  },
  {
   "cell_type": "code",
   "execution_count": 38,
   "metadata": {
    "id": "1JQW2sUVcbHm"
   },
   "outputs": [
    {
     "name": "stdout",
     "output_type": "stream",
     "text": [
      "{1, 2, 3} {1, 3, 'a', 6}\n"
     ]
    }
   ],
   "source": [
    "x = set([2, 2, 2, 1, 3, 3])\n",
    "y = {3, 'a', 6, 1, 'a'}\n",
    "# What outputs do you expect?\n",
    "print(x, y)"
   ]
  },
  {
   "cell_type": "code",
   "execution_count": 39,
   "metadata": {
    "id": "t73LtVTTcd5v"
   },
   "outputs": [
    {
     "name": "stdout",
     "output_type": "stream",
     "text": [
      "{0, 1, 2, 3, 4, 5, 6, 7, 8}\n",
      "{3, 4}\n",
      "{0, 1, 2}\n"
     ]
    }
   ],
   "source": [
    "a = {0, 1, 2, 3, 4}\n",
    "b = set([3, 4, 5, 6, 7, 8])\n",
    "# Print union of a and b\n",
    "print(a | b)\n",
    "# Print intersection of a and b\n",
    "print(a & b)\n",
    "# Print difference of a from b\n",
    "print(a - b)"
   ]
  },
  {
   "cell_type": "markdown",
   "metadata": {
    "id": "-0aYrahqcgY6"
   },
   "source": [
    "## DICT\n",
    "\n",
    "The `dict` structures are dictionaries of **key-value** pairs, where key and value are Python objects. Dictionaries are critical for labelling, which provides for instance the basis of indices in tabular data (Pandas) as we will see in the next session. You can create a dictionary by putting in curly brackets {} the `key:value` pairs,  separated by commas. For example, let's create a dictionary of profits (say in million pounds):"
   ]
  },
  {
   "cell_type": "code",
   "execution_count": 40,
   "metadata": {
    "id": "mk4u_EP-ch5R"
   },
   "outputs": [
    {
     "data": {
      "text/plain": [
       "{'firm A': 2.68, 'firm B': None, 'firm C': 1.13}"
      ]
     },
     "execution_count": 40,
     "metadata": {},
     "output_type": "execute_result"
    }
   ],
   "source": [
    "firms = {\"firm A\": 2.68, \"firm B\": None, \"firm C\": 1.13}\n",
    "firms"
   ]
  },
  {
   "cell_type": "markdown",
   "metadata": {
    "id": "IGsi6avncgSR"
   },
   "source": [
    "You access values by key, i.e. `my_dict[key]`:"
   ]
  },
  {
   "cell_type": "code",
   "execution_count": 41,
   "metadata": {
    "id": "tRLji4iocnNY"
   },
   "outputs": [
    {
     "data": {
      "text/plain": [
       "2.68"
      ]
     },
     "execution_count": 41,
     "metadata": {},
     "output_type": "execute_result"
    }
   ],
   "source": [
    "# What is the profit of firm A?\n",
    "firms['firm A']"
   ]
  },
  {
   "cell_type": "markdown",
   "metadata": {
    "id": "nmbQdC0bcuzw"
   },
   "source": [
    "You can insert new key-value pairs or update existing ones by assignment: `my_dict[key]=value`"
   ]
  },
  {
   "cell_type": "code",
   "execution_count": 42,
   "metadata": {
    "id": "7R2h9yD8cv7o"
   },
   "outputs": [
    {
     "data": {
      "text/plain": [
       "{'firm A': 2.5500000000000003, 'firm B': None, 'firm C': 1.13, 'firm D': 3}"
      ]
     },
     "execution_count": 42,
     "metadata": {},
     "output_type": "execute_result"
    }
   ],
   "source": [
    "# Decrease the profit entry of firm A by 0.13\n",
    "firms['firm A'] -= .13\n",
    "\n",
    "# Insert new entry for firm D that has a profit of 3.0\n",
    "firms['firm D'] = 3\n",
    "\n",
    "# print firms dictionary\n",
    "firms"
   ]
  },
  {
   "cell_type": "markdown",
   "metadata": {
    "id": "lUPBCONhczIw"
   },
   "source": [
    "You can remove elements using the `pop()` method as in lists."
   ]
  },
  {
   "cell_type": "code",
   "execution_count": 43,
   "metadata": {
    "id": "Xzqw660bc3l8"
   },
   "outputs": [
    {
     "data": {
      "text/plain": [
       "{'firm A': 2.5500000000000003, 'firm C': 1.13, 'firm D': 3}"
      ]
     },
     "execution_count": 43,
     "metadata": {},
     "output_type": "execute_result"
    }
   ],
   "source": [
    "# Remove the firm B entry\n",
    "firms.pop('firm B')\n",
    "\n",
    "# Print the dictionary\n",
    "firms"
   ]
  },
  {
   "cell_type": "markdown",
   "metadata": {
    "id": "9vFHm0mOc4dE"
   },
   "source": [
    "The `keys()` and `values()` methods return the keys and the values \n",
    "of the dictionary.\n",
    "\n"
   ]
  },
  {
   "cell_type": "code",
   "execution_count": 44,
   "metadata": {
    "id": "4m1zx49SdBFL"
   },
   "outputs": [
    {
     "name": "stdout",
     "output_type": "stream",
     "text": [
      "dict_keys(['firm A', 'firm C', 'firm D'])\n",
      "dict_values([2.5500000000000003, 1.13, 3])\n"
     ]
    }
   ],
   "source": [
    "# Keys\n",
    "print(firms.keys())\n",
    "\n",
    "# Values\n",
    "print(firms.values())"
   ]
  },
  {
   "cell_type": "markdown",
   "metadata": {
    "id": "NTPdX7RndEhU"
   },
   "source": [
    "You can pair up sequences with `zip` function to form dictionaries, i.e. `dict(zip(seq1, seq2))`:"
   ]
  },
  {
   "cell_type": "code",
   "execution_count": 45,
   "metadata": {
    "id": "rl0gqEbBdFGO"
   },
   "outputs": [
    {
     "data": {
      "text/plain": [
       "{'UK': 'London', 'Spain': 'Madrid', 'Italy': 'Rome', 'France': 'Paris'}"
      ]
     },
     "execution_count": 45,
     "metadata": {},
     "output_type": "execute_result"
    }
   ],
   "source": [
    "countries = ('UK', 'Spain', 'Italy', 'France') # keys\n",
    "capitals = ('London', 'Madrid', 'Rome', 'Paris') # values\n",
    "\n",
    "# Create a dict object that returns capital for the country chosen\n",
    "my_dict = dict(zip(countries, capitals))\n",
    "# Print my_dict\n",
    "my_dict"
   ]
  },
  {
   "cell_type": "markdown",
   "metadata": {},
   "source": [
    "## Exercises\n",
    "\n",
    "Now complete the following cells for self-exercise. "
   ]
  },
  {
   "cell_type": "code",
   "execution_count": null,
   "metadata": {},
   "outputs": [],
   "source": [
    "# We want to sum the three variables below with different data types\n",
    "# Hint: You can use the float() function to convert string to numeric\n",
    "x = -3\n",
    "y = 2.71\n",
    "z = '-2.31'\n",
    "\n",
    "# Sum the three variables\n",
    "__"
   ]
  },
  {
   "cell_type": "code",
   "execution_count": null,
   "metadata": {},
   "outputs": [],
   "source": [
    "# We are given a text data (variable `firm_desc` below) about a firm. We want to extract some information from the text. \n",
    "# text variable\n",
    "firm_desc = \"Falstaff Technologies is a fictional IT-enabled film studio based in London. They use deep learning to generate movie scripts.\"\n",
    "\n",
    "# What is the length of firm_desc?\n",
    "__"
   ]
  },
  {
   "cell_type": "code",
   "execution_count": null,
   "metadata": {},
   "outputs": [],
   "source": [
    "# How many times does the word 'in' appear in the text \n",
    "__"
   ]
  },
  {
   "cell_type": "code",
   "execution_count": null,
   "metadata": {},
   "outputs": [],
   "source": [
    "# Index to the word London\n",
    "# Hint: use the find method and the len function\n",
    "# letter l\n",
    "start_index = __\n",
    "# letter n + 1\n",
    "end_index = __\n",
    "# subscript the firm_desc variable from start to index, including both\n",
    "firm_desc[__: __]"
   ]
  },
  {
   "cell_type": "code",
   "execution_count": null,
   "metadata": {},
   "outputs": [],
   "source": [
    "# create the list of student ids, using the first element as an example and the prefix string\n",
    "prefix = 'QMUL_MSc_BA'\n",
    "students = ['QMUL_MSc_BA 1', __ __ '2', __ __ '6', __ __ '11', __ __ '8',  __ __ '3',  __ __ '19',  \n",
    "            __ __ '7',  __ __ '11',  __ __ '5',  __ __ '4']\n",
    "\n",
    "# list of grades\n",
    "grades = [61, 43, 78, 87, 55, 68, 72, 58, 72, 58, 65]\n",
    "\n",
    "# calculate the median of grades\n",
    "# hint: first sort the grades and then find the mid-point\n",
    "# Note that sort method changes the original list, which we do not want\n",
    "# first copy\n",
    "grades_copy = __\n",
    "# then sort\n",
    "__\n",
    "\n",
    "# For the median, you need to find the index of the mid-point using length of the list\n",
    "# You can for now assume the length is an odd number because we have not covered conditional statements yet\n",
    "mid_point = __\n",
    "median_grade = __\n",
    "\n",
    "# print median grade\n",
    "__"
   ]
  },
  {
   "cell_type": "code",
   "execution_count": null,
   "metadata": {},
   "outputs": [],
   "source": [
    "# Construct a dictionary of student - grades\n",
    "student_grades = __\n",
    "\n",
    "# Add a new student with id number 23 and score 92\n",
    "__\n",
    "\n",
    "# Decrease the mark of student with id 7 by 5 points (late submission penalty)\n",
    "__\n",
    "\n",
    "# Find the highest mark\n",
    "# Create a list of the the values of the dictionary\n",
    "new_grades = __\n",
    "# sort the list\n",
    "__\n",
    "# print highest mark\n",
    "__"
   ]
  },
  {
   "cell_type": "markdown",
   "metadata": {},
   "source": [
    "## What to expect next?\n",
    "- In our next session, we will continue with conditional statements, loops, functions, and the Numpy package and then we will move onto Pandas to work with data. \n",
    "- After this session, complete the exercise above.\n",
    "- In your own time, you can work on other online exercises or tutorials on the topics you learned in this session. There are many free resources on the web."
   ]
  }
 ],
 "metadata": {
  "colab": {
   "collapsed_sections": [],
   "name": "SBM_PhD_python_ws_part1.ipynb",
   "provenance": [],
   "toc_visible": true
  },
  "kernelspec": {
   "display_name": "Python 3 (ipykernel)",
   "language": "python",
   "name": "python3"
  },
  "language_info": {
   "codemirror_mode": {
    "name": "ipython",
    "version": 3
   },
   "file_extension": ".py",
   "mimetype": "text/x-python",
   "name": "python",
   "nbconvert_exporter": "python",
   "pygments_lexer": "ipython3",
   "version": "3.9.7"
  }
 },
 "nbformat": 4,
 "nbformat_minor": 1
}

{
 "cells": [
  {
   "cell_type": "markdown",
   "id": "1cf944b0",
   "metadata": {},
   "source": [
    "[![Open In Colab](https://colab.research.google.com/assets/colab-badge.svg)](https://colab.research.google.com/github/guvendemirel/QMULSBM_PhDWorkshop/blob/master/SBM_PhD_python_workshop_part2.ipynb)"
   ]
  },
  {
   "cell_type": "markdown",
   "id": "f1532744",
   "metadata": {},
   "source": [
    "# QMUL SBM PHD Python Workshop - Part 2\n",
    "\n",
    "In this session, we will work on the building blocks of programming (conditional statements, loops, functions) and the Numpy package."
   ]
  },
  {
   "cell_type": "markdown",
   "id": "14dfbf94",
   "metadata": {},
   "source": [
    "## Control Flow\n",
    "\n",
    "Control flow refers to the specification of the order of execution of different blocks of code using conditional statements, loops, function calls, etc. Boolean data type and operations are critical for control flows.\n",
    "\n",
    "The scalar Boolean data type in Python is `bool`, which has two instances `True` and `False`. "
   ]
  },
  {
   "cell_type": "code",
   "execution_count": null,
   "id": "60cd5dce",
   "metadata": {},
   "outputs": [],
   "source": [
    "type(True)"
   ]
  },
  {
   "cell_type": "markdown",
   "id": "143948ff",
   "metadata": {},
   "source": [
    "### Boolean Operations\n",
    "`a` and `b` boolean:\n",
    "- `a & b`: AND - True if both a and b are True\n",
    "- `a | b`: OR - True if either a and/or b is True\n",
    "- `a ^ b`: XOR - True if any one of a or b is True, but not both\n",
    "\n",
    "`a` and `b` generally:\n",
    "- `a == b` True if the value of a equals b\n",
    "- `a != b` True if the value of a is not equal to b\n",
    "- `a <= b, a < b`\tTrue if a is less than or equal to (less than) b (numerical)\n",
    "- `a > b, a >= b`\tTrue if a is greater than or equal to (greater than) b\n",
    "- `a is b`\tTrue if a and b reference the same Python object\n",
    "- `a is not b`\tTrue if a and b reference different Python objects"
   ]
  },
  {
   "cell_type": "code",
   "execution_count": null,
   "id": "3e263196",
   "metadata": {},
   "outputs": [],
   "source": [
    "# What outputs do you expect?\n",
    "print(True & False)\n",
    "print(True ^ True)"
   ]
  },
  {
   "cell_type": "code",
   "execution_count": null,
   "id": "96053bd5",
   "metadata": {},
   "outputs": [],
   "source": [
    "list1 = [1, 2, 0]\n",
    "list2 = [1, 2, 0]\n",
    "# What output do you expect?\n",
    "print(list1 == list2, list1 is list2)"
   ]
  },
  {
   "cell_type": "code",
   "execution_count": null,
   "id": "d61529d6",
   "metadata": {},
   "outputs": [],
   "source": [
    "list3 = list1\n",
    "# What output do you expect?\n",
    "print(list2 == list3, list1 is list3, list2 is list3)"
   ]
  },
  {
   "cell_type": "markdown",
   "id": "d7d45610",
   "metadata": {},
   "source": [
    "## Choice Statements:\n",
    "Choice statements control the flow in the program depending on which condition is met.\n",
    "```pyton\n",
    "if condition1:\n",
    "    statement1\n",
    "elif condition2:\n",
    "    statement2\n",
    "elif condition3:\n",
    "    statement3\n",
    "else:\n",
    "    statement4\n",
    "```\n",
    "\n",
    "As an example, we will generate two standard normal variables and choose the greater value. "
   ]
  },
  {
   "cell_type": "code",
   "execution_count": null,
   "id": "d1bc4b72",
   "metadata": {},
   "outputs": [],
   "source": [
    "# import numpy\n",
    "__\n",
    "\n",
    "np.random.seed(42) #set the seed for pseudo-random numbers \n",
    "\n",
    "# a standard normal random number \n",
    "x = np.random.standard_normal() \n",
    "\n",
    "# generate another standard normal random number\n",
    "y = __\n",
    "\n",
    "# format replaces the {} in the string with the corresponding argument\n",
    "print(\"x={0:.2f} and y={1:.2f}\".format(x, y)) "
   ]
  },
  {
   "cell_type": "code",
   "execution_count": null,
   "id": "c7e54273",
   "metadata": {},
   "outputs": [],
   "source": [
    "# Print the maximum of x and y\n",
    "__: \n",
    "    print(\"Maximum is {0:.2f}\".format(__))\n",
    "__:\n",
    "    print(\"Maximum is {0:.2f}\".format(__))"
   ]
  },
  {
   "cell_type": "markdown",
   "id": "5c081772",
   "metadata": {},
   "source": [
    "## Loops \n",
    "\n",
    "`for` loops are used for iterating over collections, such as lists, tuples, and any iterators. \n",
    "\n",
    "`range` function is used to create iterators. It is called by `range(1,5)`, which iterates as 1, 2, 3, and 4. The advantage of iterators as opposed to lists or tuples is that you do not keep the full list. We need only the value in a specific iteration, which saves a lot of memory if looping over a large range.\n",
    "\n",
    "In Python, `for` loops should only be used in complex situations because they are slower than list comprehensions and Numpy array methods (both to follow). \n",
    "\n",
    "If you want to check time performance of an operation you can use the `%%time` and `%%timeit` magics.  \n",
    "\n",
    "Example: create a loop that calculates the square of one million randomly generated standard normal variables."
   ]
  },
  {
   "cell_type": "code",
   "execution_count": null,
   "id": "0da45357",
   "metadata": {},
   "outputs": [],
   "source": [
    "# Genereate 1000000 standard normal variables\n",
    "vals = np.__.__(__)"
   ]
  },
  {
   "cell_type": "code",
   "execution_count": null,
   "id": "8cac9a5c",
   "metadata": {},
   "outputs": [],
   "source": [
    "%%timeit\n",
    "# Create an empty list\n",
    "vals_squared = __\n",
    "# Loop over the vals array and append to the list the square of the current element\n",
    "for val in vals: \n",
    "    __"
   ]
  },
  {
   "cell_type": "markdown",
   "id": "ac563652",
   "metadata": {},
   "source": [
    "You can do the same with **list comprehension** in shorter time:"
   ]
  },
  {
   "cell_type": "code",
   "execution_count": null,
   "id": "0651b127",
   "metadata": {},
   "outputs": [],
   "source": [
    "%%timeit\n",
    "vals_squared = [val ** 2 for val in vals]"
   ]
  },
  {
   "cell_type": "markdown",
   "id": "97e7399f",
   "metadata": {},
   "source": [
    "It is even faster to use Numpy methods and operations, which are directly implemented in C."
   ]
  },
  {
   "cell_type": "code",
   "execution_count": null,
   "id": "a5eaadc8",
   "metadata": {},
   "outputs": [],
   "source": [
    "%%timeit\n",
    "vals_squared = vals ** 2 # note that this works with Numpy arrays, not lists"
   ]
  },
  {
   "cell_type": "markdown",
   "id": "85aa2a4b",
   "metadata": {},
   "source": [
    "In most cases, we need to combine `for` loops with `if else` statements. You can also do this in list comprehensions:"
   ]
  },
  {
   "cell_type": "code",
   "execution_count": null,
   "id": "98c4d33d",
   "metadata": {},
   "outputs": [],
   "source": [
    "# For the list below\n",
    "my_list = [1, 10, 'analytics', 'business analytics', 'data', 'machine learning', 'statistics', 'python']\n",
    "\n",
    "# We want to convert all strings to uppercase (common task in data cleaning) \n",
    "# and skip other types \n",
    "# Hint: isintance(x,type) checks if x is an instance of class type \n",
    "__"
   ]
  },
  {
   "cell_type": "markdown",
   "id": "c4c2505a",
   "metadata": {},
   "source": [
    "## Functions\n",
    "Functions are crucial building blocks of programming, which eliminate redundancy and provide abstraction. If you repeat a certain code that solves a non-trivial task in different parts of your code, it is a good indication that you should introduce a function. Organizing your blocks of code into functions provides an abstraction, which makes it easier to understand your code. Furthermore, the maintenance of code is easier with functions. We have so far used several built-in functions, e.g. `print` function, or functions from other packages such as Numpy, e.g. `np.sqrt()`. The functions are called by providing their arguments, lists of which can be checked from the help.\n",
    "\n",
    "We can also define our own functions. Let's now define a simple function. **Positional arguments** must always be provided inputs. Default values are used for **keyword arguments** if no value is provided. The function definition syntax is as follows:\n",
    "\n",
    "```python\n",
    "def function_name(arg1, arg2 = val2):\n",
    "    code\n",
    "    return value\n",
    "```\n",
    "\n",
    "### Namespaces\n",
    "The local namespace (variable scope) is created when the function is called and the arguments are automatically loaded. You can also use variables from the global namespace in the local namespace. However, you cannot change their values. If you try, a new variable is created. You must use the `global` keyword if you want to update its value.\n",
    "\n",
    "As an example, let's write a function that cleans the names of subject areas."
   ]
  },
  {
   "cell_type": "code",
   "execution_count": null,
   "id": "68f5bd2b",
   "metadata": {},
   "outputs": [],
   "source": [
    "import re #regular expressions library for handling text\n",
    "\n",
    "courses = [' accounting ', 'finance ', 'Marketing ', 'supply chain management#', '?interna92tional BuSiness1\\n']\n",
    "\n",
    "# Create a list of characters to remove\n",
    "remove_chars = '[_!#?*0-9]'\n",
    "\n",
    "def clean_name(name):\n",
    "    cl_name = __.strip() #remove the beginning and ending white spaces and new lines\n",
    "    cl_name = re.sub(remove_chars, '', __) #remove unwanted characters\n",
    "    cl_name = __.title() #first letter capital \n",
    "    __\n",
    "\n",
    "# Write a list comprehension that applies clean_name to each name in the courses list\n",
    "cleaned_courses = __\n",
    "cleaned_courses"
   ]
  },
  {
   "cell_type": "markdown",
   "id": "9eadecc7",
   "metadata": {},
   "source": [
    "Final check variable scope:"
   ]
  },
  {
   "cell_type": "code",
   "execution_count": null,
   "id": "fc266a9d",
   "metadata": {},
   "outputs": [],
   "source": [
    "# What happens if you try accessing cl_name outside the function (in the global scope), \n",
    "# where it is not in the namespace?\n",
    "cl_name"
   ]
  },
  {
   "cell_type": "markdown",
   "id": "587765f8",
   "metadata": {},
   "source": [
    "Since in Python everything is an object, the variables are passed by object (reference), in contrast to passing by value, which is more common in other programming languages. The behaviour depends on whether the argument is of mutable vs immutable data type, similar to the behaviour of variable assignment as we have seen before. The following exercises illustrate variable scopes and the behaviour for mutable and immutable arguments."
   ]
  },
  {
   "cell_type": "code",
   "execution_count": null,
   "id": "57f48f27",
   "metadata": {},
   "outputs": [],
   "source": [
    "# Try the following code - Version 1\n",
    "def clean_name(name):\n",
    "    name = name.strip() \n",
    "    name = re.sub(remove_chars, '', name) \n",
    "    name = name.title()\n",
    "    return name\n",
    "\n",
    "name1 = \"?businesS analytics#\"\n",
    "name2 = clean_name(__)\n",
    "\n",
    "# What output do you expect and why?\n",
    "print(name1, name2)"
   ]
  },
  {
   "cell_type": "code",
   "execution_count": null,
   "id": "5e5ae993",
   "metadata": {},
   "outputs": [],
   "source": [
    "# Try the following code - Version 2\n",
    "def clean_name_alt(name):\n",
    "    name1 = name.strip() \n",
    "    name1 = re.sub(remove_chars, '', name1) \n",
    "    name1 = name1.title() #first letter capital \n",
    "    return name1\n",
    "\n",
    "name1 = \"something else\"\n",
    "name2 = \"?businesS analytics#\"\n",
    "name3 = clean_name_alt(name2)\n",
    "\n",
    "# What output do you expect and why?\n",
    "print(name1, name2, name3)"
   ]
  },
  {
   "cell_type": "code",
   "execution_count": null,
   "id": "d1b68c7f",
   "metadata": {},
   "outputs": [],
   "source": [
    "# Try the following code - Version 3\n",
    "def clean_name_alt(name):\n",
    "    # set the scope of the variable to global\n",
    "    __ \n",
    "    name1 = name.strip() \n",
    "    name1 = re.sub(remove_chars, '', name1) \n",
    "    name1 = name1.title() #first letter capital \n",
    "    return __\n",
    "\n",
    "name1 = \"something else\"\n",
    "name2 = \"?businesS analytics#\"\n",
    "name3 = clean_name_alt(name2)\n",
    "\n",
    "# What output do you expect and why?\n",
    "print(name1, name2, name3)"
   ]
  },
  {
   "cell_type": "code",
   "execution_count": null,
   "id": "a4de1dd2",
   "metadata": {},
   "outputs": [],
   "source": [
    "# Check whether name1 and name3 are the same object\n",
    "__"
   ]
  },
  {
   "cell_type": "code",
   "execution_count": null,
   "id": "a8a0bab9",
   "metadata": {},
   "outputs": [],
   "source": [
    "# Working with list arguments\n",
    "\n",
    "# Global scope:\n",
    "courses = [' accounting ', 'finance ', 'Marketing ', 'supply chain management#', '?interna92tional BuSiness1\\n']\n",
    "no_courses = 0\n",
    "\n",
    "def clean_names(name_list):\n",
    "    # set the scope to global\n",
    "    __ no_courses\n",
    "    # loop over the list by both index and value\n",
    "    for __, __ in __:\n",
    "        # increment no_courses\n",
    "        __\n",
    "        # call clean_name function and update the list\n",
    "        __        \n",
    "\n",
    "# clean the courses list\n",
    "__\n",
    "\n",
    "# What output do you expect and why?\n",
    "print(courses, no_courses)"
   ]
  },
  {
   "cell_type": "markdown",
   "id": "9d0b9875",
   "metadata": {},
   "source": [
    "## Numpy Package\n",
    "NumPy is the main package for numerical computations in Python. It is used together with the Pandas package for data analysis. Numpy is highly efficient even for large amounts of data because its methods are implemented in C. NumPy provides methods, operations, and functions that can be applied to whole arrays without the need for loops or list comprehensions.\n",
    "\n",
    "### Numpy Arrays\n",
    "The core data structure of Numpy is `ndarray` (N-dimensional array). Arrays are homogeneous, meaning that all units have the same data type (mostly numeric and logical), differently from lists that are heterogeneous. With arrays, you can apply operations as if they were scalars. "
   ]
  },
  {
   "cell_type": "code",
   "execution_count": null,
   "id": "55e9b8b2",
   "metadata": {},
   "outputs": [],
   "source": [
    "# Import the numpy package\n",
    "__\n",
    "\n",
    "# Set the seed for random numbers\n",
    "__\n",
    "\n",
    "# Create my_array 2 x 3 array of standard normal variables\n",
    "my_array = __.__.__((2, 3)) \n",
    "my_array"
   ]
  },
  {
   "cell_type": "markdown",
   "id": "3fafa5fd",
   "metadata": {},
   "source": [
    "All mathematical operators are applied element-wise:"
   ]
  },
  {
   "cell_type": "code",
   "execution_count": null,
   "id": "c5f99408",
   "metadata": {},
   "outputs": [],
   "source": [
    "# Multiply all entries of my_array by 10\n",
    "10 * my_array"
   ]
  },
  {
   "cell_type": "code",
   "execution_count": null,
   "id": "a8db9304",
   "metadata": {},
   "outputs": [],
   "source": [
    "# Subtract 0.2*my_array from my_array\n",
    "__"
   ]
  },
  {
   "cell_type": "code",
   "execution_count": null,
   "id": "17c4b212",
   "metadata": {},
   "outputs": [],
   "source": [
    "# Divide 10 by each entry of my_array\n",
    "__"
   ]
  },
  {
   "cell_type": "code",
   "execution_count": null,
   "id": "d278164b",
   "metadata": {},
   "outputs": [],
   "source": [
    "# Raise 0.2 to the power given by each entry of my_array\n",
    "__"
   ]
  },
  {
   "cell_type": "code",
   "execution_count": null,
   "id": "ca1793b8",
   "metadata": {},
   "outputs": [],
   "source": [
    "# Take the fourth power of each entry of my_array\n",
    "__"
   ]
  },
  {
   "cell_type": "markdown",
   "id": "7d96d1a3",
   "metadata": {},
   "source": [
    "You can access the shape of the array by the `shape` attribute:"
   ]
  },
  {
   "cell_type": "code",
   "execution_count": null,
   "id": "37423306",
   "metadata": {},
   "outputs": [],
   "source": [
    "# How many rows and columns does my array have my_array?\n",
    "__"
   ]
  },
  {
   "cell_type": "markdown",
   "id": "a47c966f",
   "metadata": {},
   "source": [
    "You can create arrays from other collections by using the `np.array()` function."
   ]
  },
  {
   "cell_type": "code",
   "execution_count": null,
   "id": "3a66caec",
   "metadata": {},
   "outputs": [],
   "source": [
    "my_list = [3, 6, -2]\n",
    "# Create my_array from my_list\n",
    "my_array = __\n",
    "# Change the values of both my_list and my_array\n",
    "my_list *= 4  \n",
    "my_array *= 2\n",
    "\n",
    "# What results do you expect?\n",
    "print(my_list, my_array)"
   ]
  },
  {
   "cell_type": "code",
   "execution_count": null,
   "id": "823b6c3b",
   "metadata": {},
   "outputs": [],
   "source": [
    "my_list = [3, 6, -2]\n",
    "# create a list that contains 2 * each value of my_list elements\n",
    "__"
   ]
  },
  {
   "cell_type": "markdown",
   "id": "a326d130",
   "metadata": {},
   "source": [
    "You can create two-dimensional arrays from lists with equal length:"
   ]
  },
  {
   "cell_type": "code",
   "execution_count": null,
   "id": "71fdf0ca",
   "metadata": {},
   "outputs": [],
   "source": [
    "data1 = [[1, 2, 3, 4], [5, 6, 7, 8], [9, 10, 11, 12]]\n",
    "# Create 2D array from data1\n",
    "arr1 = __\n",
    "# print arr1\n",
    "__"
   ]
  },
  {
   "cell_type": "markdown",
   "id": "4a585c1b",
   "metadata": {},
   "source": [
    "A commonly used Numpy array method is `reshape((n1,n2))` which reshapes the array to a 2D array with n1 rows and n2 columns (can be applied to higher dimensional arrays). Another useful method is `ravel()`, which flattens the array"
   ]
  },
  {
   "cell_type": "code",
   "execution_count": null,
   "id": "7088e94d",
   "metadata": {},
   "outputs": [],
   "source": [
    "# range(1, 13) -> 1, 2, 3, ..., 12\n",
    "# Numpy's arange is similar to the range iterator but returns an array \n",
    "arr2 = __\n",
    "# Print the array\n",
    "arr2"
   ]
  },
  {
   "cell_type": "code",
   "execution_count": null,
   "id": "4056db3d",
   "metadata": {},
   "outputs": [],
   "source": [
    "# Reshape the array to 3x4 two-dimensional array\n",
    "arr2.__"
   ]
  },
  {
   "cell_type": "code",
   "execution_count": null,
   "id": "9abf3147",
   "metadata": {},
   "outputs": [],
   "source": [
    "# Reshape the array to 2 rows and assign to arr3\n",
    "arr3 = __\n",
    "\n",
    "# Flatten arr3\n",
    "__"
   ]
  },
  {
   "cell_type": "markdown",
   "id": "820f012b",
   "metadata": {},
   "source": [
    "You can compare two numerical arrays to form a Boolean array.\n",
    "\n",
    "Create two standard normally distributed 2d (2x4) arrays and check whether the entry in the first array is greater than or equal to the second array entry."
   ]
  },
  {
   "cell_type": "code",
   "execution_count": null,
   "id": "6231ef45",
   "metadata": {},
   "outputs": [],
   "source": [
    "arr1 = __\n",
    "arr2 = __\n",
    "# create the boolean array that contains whether arr1 value is greater than or equal to arr2 value\n",
    "__"
   ]
  },
  {
   "cell_type": "markdown",
   "id": "79d89de5",
   "metadata": {},
   "source": [
    "## Indexing and Slicing Numpy Arrays\n",
    "Indexing and slicing are done in a very similar way to lists and tuples. If the array is high dimensional (at least 2), you provide indices for all dimensions."
   ]
  },
  {
   "cell_type": "code",
   "execution_count": null,
   "id": "2c177cd0",
   "metadata": {},
   "outputs": [],
   "source": [
    "arr1 = np.array([3, 6, -2, 7, 9])\n",
    "# The element in index 1\n",
    "print(__)\n",
    "# Slice that starts with the index 2 up until the end\n",
    "print(__)"
   ]
  },
  {
   "cell_type": "markdown",
   "id": "85993b00",
   "metadata": {},
   "source": [
    "With Numpy arrays, you can pass multiple indices as a list:"
   ]
  },
  {
   "cell_type": "code",
   "execution_count": null,
   "id": "50c2701f",
   "metadata": {},
   "outputs": [],
   "source": [
    "# Subscript elements at index 0, 2, and 3\n",
    "arr1[__]"
   ]
  },
  {
   "cell_type": "markdown",
   "id": "68bd9829",
   "metadata": {},
   "source": [
    "Working with 2D arrays:"
   ]
  },
  {
   "cell_type": "code",
   "execution_count": null,
   "id": "70f7ef77",
   "metadata": {},
   "outputs": [],
   "source": [
    "arr2 = np.arange(12).reshape(4,3)\n",
    "arr2"
   ]
  },
  {
   "cell_type": "code",
   "execution_count": null,
   "id": "70bc3426",
   "metadata": {},
   "outputs": [],
   "source": [
    "# Subscript to the element in row 1 and column 2\n",
    "__"
   ]
  },
  {
   "cell_type": "code",
   "execution_count": null,
   "id": "e37d395b",
   "metadata": {},
   "outputs": [],
   "source": [
    "# Dice to the sub-matrix from row 2 to the last row and columns 0 and 2 (not 1)\n",
    "__"
   ]
  },
  {
   "cell_type": "markdown",
   "id": "d3e99ef9",
   "metadata": {},
   "source": [
    "You can then assign values to these slices. If you assign a scalar, its value is repeated for each entry."
   ]
  },
  {
   "cell_type": "code",
   "execution_count": null,
   "id": "a535c17d",
   "metadata": {},
   "outputs": [],
   "source": [
    "# For the dice above, assign the values to 100\n",
    "__\n",
    "\n",
    "# Print arr2\n"
   ]
  },
  {
   "cell_type": "markdown",
   "id": "c429523d",
   "metadata": {},
   "source": [
    "You can also index by using logical conditions, which you can equally apply to other collections such as lists and tuples. "
   ]
  },
  {
   "cell_type": "code",
   "execution_count": null,
   "id": "a6eec51e",
   "metadata": {},
   "outputs": [],
   "source": [
    "# Data type conversion needed for the next replacement (remember homogeneous types)\n",
    "arr2 = arr2.astype(np.float64)\n",
    "\n",
    "# Identify the elements of arr2 which are greater than or equal to 7\n",
    "__\n",
    "\n",
    "# Set the values >= 7 to normal random numbers with mean 10, std dev =2\n",
    "arr2[__] = __(10, 2, np.sum(arr2 >= 7))\n",
    "arr2"
   ]
  },
  {
   "cell_type": "markdown",
   "id": "a4898ee8",
   "metadata": {},
   "source": [
    "## Numpy functions\n",
    "Numpy provides a wide range of functions and methods that can be applied efficiently on arrays.  \n",
    "\n",
    "**Unary functions**:\n",
    "They are all element-wise transformations.\n",
    "- `abs`: Compute the absolute value\n",
    "- `sqrt`: Compute the square root\n",
    "- `exp`: Compute the exponential\n",
    "- `log`,`log10`: Natural logarithm, log base 10\n",
    "- `sign`: Compute the sign\n",
    "- `rint`: Round to the nearest integer\n",
    "- `isnan`: Return boolean array indicating whether each value is NaN (Not a Number)\n",
    "- `cos`, `cosh`, `sin`, `sinh`, `tan`, `tanh`: Regular and hyperbolic trigonometric functions\n",
    "\n",
    "**Binary functions:**\n",
    "They take two arrays and return a single array as the result. \n",
    "- `maximum`: Element-wise maximum\n",
    "- `minimum`: Element-wise minimum\n",
    "- `mod`: Element-wise modulus"
   ]
  },
  {
   "cell_type": "code",
   "execution_count": null,
   "id": "bb2b07d5",
   "metadata": {},
   "outputs": [],
   "source": [
    "# Create an array of 0, 1, ...,9\n",
    "arr1 = __\n",
    "# Exponentiate that array elementwise\n",
    "print(__)"
   ]
  },
  {
   "cell_type": "markdown",
   "id": "0d9d2045",
   "metadata": {},
   "source": [
    "Create two standard normal 2d (2x4) arrays and choose the maximum of the two arrays for each element"
   ]
  },
  {
   "cell_type": "code",
   "execution_count": null,
   "id": "d967b516",
   "metadata": {},
   "outputs": [],
   "source": [
    "arr1 = __\n",
    "arr2 = __\n",
    "# Create arr3, which is elemtwise maximum of the two\n",
    "arr3 = __\n",
    "# Print arr1, arr2, arr3"
   ]
  },
  {
   "cell_type": "code",
   "execution_count": null,
   "id": "f16afcd0",
   "metadata": {},
   "outputs": [],
   "source": [
    "arr = np.arange(12).reshape(4,3)\n",
    "arr"
   ]
  },
  {
   "cell_type": "code",
   "execution_count": null,
   "id": "2fd7e847",
   "metadata": {},
   "outputs": [],
   "source": [
    "# Overall mean, sum, standard deviation\n",
    "arr.__, arr.__, arr.__"
   ]
  },
  {
   "cell_type": "code",
   "execution_count": null,
   "id": "2cc61447",
   "metadata": {},
   "outputs": [],
   "source": [
    "# Mean across the rows\n",
    "arr.__"
   ]
  },
  {
   "cell_type": "code",
   "execution_count": null,
   "id": "d9ffe236",
   "metadata": {},
   "outputs": [],
   "source": [
    "# Maximum across the columns\n",
    "arr.__  "
   ]
  },
  {
   "cell_type": "markdown",
   "id": "7c027bb9",
   "metadata": {},
   "source": [
    "## Exercise\n",
    "\n",
    "Now complete the following exercises to practice the concepts you learned in this session. \n",
    "\n",
    "This is similar to the exercise in Session 1, but by using functions and loops. We have two lists of grades and student names, matching each other in order. We ask you to clean the names and return a dictionary of mark class:\n",
    "- D: Distinction, \\[70, 100\\]\n",
    "- M: Merit, \\[60, 70\\)\n",
    "- P: Pass, \\[50, 60\\) \n",
    "- F: Fail, \\[0, 50\\)"
   ]
  },
  {
   "cell_type": "code",
   "execution_count": null,
   "id": "534d00a5",
   "metadata": {},
   "outputs": [],
   "source": [
    "# Part 1\n",
    "# import package for regular expressions\n",
    "__\n",
    "\n",
    "# create the list of student names\n",
    "names = ['SamWise! Gamgee', ' Frodo Baggins111 ', '*Pippin Took*', ' Merry Brandybuck', \n",
    "         ' Galadriel30', 'Gandalf:', 'Gollum.', 'Elrond?', 'Gimli', ' Legolas ', '!Arwen#', ' Boromir? ', '#Aragorn# ']\n",
    "\n",
    "# characters to remove from the names\n",
    "remove_chars = '[.,:_!#?*0-9]'\n",
    "\n",
    "# create a function that removes remove_chars from a given name and coverts to title case\n",
    "__ __(__):\n",
    "    __ = __.__() #remove the beginning and ending white spaces and new lines\n",
    "    __ = __.__(__, __, __) #remove unwanted characters\n",
    "    __ = __.__() #first letter capital \n",
    "    return __\n",
    "\n",
    "# Clean the names of the students\n",
    "cleaned_names = __"
   ]
  },
  {
   "cell_type": "code",
   "execution_count": null,
   "id": "8ba9f6b8",
   "metadata": {},
   "outputs": [],
   "source": [
    "# Part 2\n",
    "# create a list of student IDs such that 'Samwise Gamgee' has ID QMUL_Msc_BA_1, 'Frodo Baggins' has ID QMUL_Msc_BA_2, etc.\n",
    "prefix = 'QMUL_MSc_BA'\n",
    "student_ids = __\n",
    "\n",
    "# list of grades\n",
    "grades = [90, 76, 55, 57, 82, 85, 68, 65, 63, 74, 71, 43, 78]\n",
    "\n",
    "# write a function that returns F, P, M, or D depensing on the score\n",
    "__\n",
    "\n",
    "# calculate student mark class and store it as a list\n",
    "student_class = __\n",
    "\n",
    "# Create a dictionary with the student ID as the key and tupe of student name, grade, and grade class as value,\n",
    "# e.g. 'QMUL_MSc_BA1': ('Samwise Gamgee', 90, 'D'), 'QMUL_MSc_BA2': ('Frodo Baggins', 76, 'D' ...\n",
    "# Hint: You can use zip at two levels inside zip the lists to create the tupples and then zip again with the keys\n",
    "students = dict(zip(__, zip(__, __, __)))\n",
    "\n",
    "# print the dictionary \n",
    "students"
   ]
  },
  {
   "cell_type": "code",
   "execution_count": null,
   "id": "8b4c82c5",
   "metadata": {},
   "outputs": [],
   "source": [
    "# Part 3 Numpy exercises\n",
    "\n",
    "import numpy as np\n",
    "\n",
    "# 1. Append a list to the end of an array\n",
    "#Hint: Use the append function\n",
    "\n",
    "arr1 = np.array([1, 2, 3, 4])\n",
    "\n",
    "# Create a list of odd numbers from 5 to 25 (inclusive)\n",
    "list1 = __(5, 26, __)\n",
    "\n",
    "# append list1 to  arr1 \n",
    "arr2 = __.append(__, __)\n",
    "\n",
    "#print arr2\n",
    "arr2"
   ]
  },
  {
   "cell_type": "code",
   "execution_count": null,
   "id": "38107279",
   "metadata": {},
   "outputs": [],
   "source": [
    "# 2.Test which elements of an array is contained in another array\n",
    "# Hint use the isin function\n",
    "\n",
    "list2 = [0, -1, 1]\n",
    "list3 = [9, -7, 1, 0, 0.01]\n",
    "\n",
    "# Check whether the elements of list2 are in list3\n",
    "__"
   ]
  },
  {
   "cell_type": "code",
   "execution_count": null,
   "id": "d244f353",
   "metadata": {},
   "outputs": [],
   "source": [
    "# 3. Flatten a given list\n",
    "\n",
    "list4 = [[9, 7, -3], [1, 0, 9], [-2, np.nan, np.inf]]\n",
    "\n",
    "# Flatten list4\n",
    "arr4 = np.__(list4)\n",
    "# Print arr4\n",
    "arr4"
   ]
  },
  {
   "cell_type": "code",
   "execution_count": null,
   "id": "1068c719",
   "metadata": {},
   "outputs": [],
   "source": [
    "# 4. Write a function to find the value of the smallest entry in an array for which the value is equal to greater than the mean \n",
    "\n",
    "__ greater_than_mean_fn(arr):\n",
    "    # Create a copy of the arr array\n",
    "    x = arr.__()\n",
    "    # Sort x (note: arr remains untouched)\n",
    "    x.sort()\n",
    "    # Find the first value that is larger the mean of the array\n",
    "    # Hint: the list is already sorted. Filter according to whether greater than or equal to the mean and choose the one\n",
    "    # with zero index\n",
    "    val = __\n",
    "    return val\n",
    "\n",
    "# Test with arr5\n",
    "arr5 = np.array([13, 6, -2, 8, 3, 7, 4])\n",
    "\n",
    "# What is the smallest value in arr5 that is greater than its mean?\n",
    "__(arr5)"
   ]
  },
  {
   "cell_type": "code",
   "execution_count": null,
   "id": "48b84649",
   "metadata": {},
   "outputs": [],
   "source": [
    "# 5. Swap two rows in a 2d Numpy array\n",
    "\n",
    "# Create a 4-by-5 2d numpy array of random integers from 0 to 100\n",
    "arr6 = np.random.__(__, __, __)\n",
    "print('Before swap: \\n', arr6)\n",
    "\n",
    "# Swap the first and last rows\n",
    "arr6[__, __] = arr6[__, __]\n",
    "print('After swap: \\n', arr6)"
   ]
  },
  {
   "cell_type": "markdown",
   "id": "806c1b36",
   "metadata": {},
   "source": [
    "## What to expect next?\n",
    "- In our next session, we will move onto Pandas to work with data. \n",
    "- In your own time, you can work on other online exercises or tutorials on the topics you learned in this session. There are many free resources on the web."
   ]
  }
 ],
 "metadata": {
  "kernelspec": {
   "display_name": "python_tutorials",
   "language": "python",
   "name": "python_tutorials"
  },
  "language_info": {
   "codemirror_mode": {
    "name": "ipython",
    "version": 3
   },
   "file_extension": ".py",
   "mimetype": "text/x-python",
   "name": "python",
   "nbconvert_exporter": "python",
   "pygments_lexer": "ipython3",
   "version": "3.10.9"
  }
 },
 "nbformat": 4,
 "nbformat_minor": 5
}
